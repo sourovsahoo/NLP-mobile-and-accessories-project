{
 "cells": [
  {
   "cell_type": "markdown",
   "metadata": {},
   "source": [
    "# Project flow chart till now:- "
   ]
  },
  {
   "cell_type": "raw",
   "metadata": {},
   "source": [
    "  \n",
    "1.Read the .json data file\n",
    "\n",
    "Feature Engineering-------------------------------------------------------------------------------------------------------------------------------------------------------------------------------------------------------------------------------------------\n",
    "\n",
    "a.\n",
    "Checking for missing values.\n",
    "There are many null values in th dataset which are to be treated accordingly and with logic of replacement\n",
    "\n",
    "b.\n",
    "Prod_meta           352624 ~(50%)\n",
    "Useful              698250 ~(90 %)\n",
    "Prod_img            742256 ~(90 %)\n",
    "All above features have more than 50% missing data.hence we can delete these features.\n",
    "\n",
    "c.imputing missing value of Reviewer_Name feature with mode.as only 91 values were missing.\n",
    "\n",
    "d.\n",
    "I deleted rows of features 'Review','Rev_summ' which are having null(how='any') values as taking mode is not a good idea for 'Review' feature.\n",
    "\n",
    "e.Reset index\n",
    "\n",
    "f.\n",
    "#Replacicing as there are just two categories.\n",
    "df['Rev_verify']=df['Rev_verify'].replace([True,False],[1,0])\n",
    "\n",
    "Feature generation--------------------------------------------------------------------------------------------------------------------------------------------------------------------------------------------------------------------------------------------\n",
    "\n",
    "#Converting 'Review_Date' feature to date time format.\n",
    "\n",
    "df['Review_Date']=pd.to_datetime(df['Review_Date'],format='%m %d, %Y')\n",
    "df['review_month']=df['Review_Date'].dt.month\n",
    "df['review_day']=df['Review_Date'].dt.day\n",
    "df['review_weekday']=df['Review_Date'].dt.dayofweek\n",
    "\n",
    "#Dropping the feature 'Review_Date' as we have extrated the data we need\n",
    "\n",
    "Label Encoding------------------------------------------------------------------------------------------------------------------------------------------------------------------------------------------------------------------------------------------------\n",
    "\n",
    "df['IC']=le.fit_transform(df['IC']) #Duplicates are still present.label encoding for model building purpose.\n",
    "\n",
    "df['Reviewer_Name']=le.fit_transform(df['Reviewer_Name'])\n",
    "\n",
    "-----------------------------------------------------------------------------------------------------------------\n",
    "'Review_timestamp'--time when the review has been posted (unix time format)-----------------------------------------------------------------------------------------------------------------------------------------------------------------------------------\n",
    "#conversion and feature extraction:-\n",
    "\n",
    "df['Review_timestamp']=pd.to_datetime(df['Review_timestamp'],format='%Y-%m-%d %H:%M:%S')\n",
    "df['Review_timestamp_year']=df['Review_timestamp'].dt.year\n",
    "df['Review_timestamp_month']=df['Review_timestamp'].dt.month\n",
    "df['Review_timestamp_day']=df['Review_timestamp'].dt.day\n",
    "df['Review_timestamp_hour']=df['Review_timestamp'].dt.hour\n",
    "df['Review_timestamp_minutes']=df['Review_timestamp'].dt.minute\n",
    "df['Review_timestamp_seconds']=df['Review_timestamp'].dt.second\n",
    "\n",
    "#Dropping the feature 'Review_timestamp' as we have extrated the data we need.\n",
    "\n",
    "--------------------------------------------------------------------------------------------------------------------------------------------------------------------------------------------------------------------------------------------------------------\n",
    "NLP technique on 'Review' feature\n",
    "a.NLP Filter loop\n",
    "   1.lower case\n",
    "   2.removing string.punctuation\n",
    "   3.word tokenization\n",
    "   \n",
    "b.Removing Stop Words from tokenized_words as they give no emotions or feelings.\n",
    "c.Applying Lemmatization to final_words 1st then,\n",
    "d.Stemming\n",
    "--------------------------------------------------------------------------------------------------------------------------------------------------------------------------------------------------------------------------------------------------------------\n",
    "\n",
    "# Automated EDA by sweetwiz library.\n",
    "# Automated EDA by dtale library.\n",
    "\n",
    "\n",
    "\n",
    "\n"
   ]
  },
  {
   "cell_type": "code",
   "execution_count": 395,
   "metadata": {},
   "outputs": [],
   "source": [
    "import string\n",
    "\n",
    "from collections import Counter #For simple counting\n",
    "\n",
    "import matplotlib.pyplot as plt\n",
    "\n",
    "from nltk.corpus import stopwords\n",
    "\n",
    "from nltk.sentiment.vader import SentimentIntensityAnalyzer\n",
    "\n",
    "from nltk.stem import WordNetLemmatizer\n",
    "\n",
    "from nltk.tokenize import word_tokenize\n",
    "\n",
    "import nltk\n",
    "\n",
    "import warnings\n",
    "warnings.filterwarnings('ignore')"
   ]
  },
  {
   "cell_type": "code",
   "execution_count": 396,
   "metadata": {},
   "outputs": [
    {
     "data": {
      "text/plain": [
       "'!\"#$%&\\'()*+,-./:;<=>?@[\\\\]^_`{|}~'"
      ]
     },
     "execution_count": 396,
     "metadata": {},
     "output_type": "execute_result"
    }
   ],
   "source": [
    "string.punctuation"
   ]
  },
  {
   "cell_type": "code",
   "execution_count": 397,
   "metadata": {},
   "outputs": [],
   "source": [
    "import json"
   ]
  },
  {
   "cell_type": "code",
   "execution_count": 398,
   "metadata": {},
   "outputs": [],
   "source": [
    "import pandas as pd\n",
    "df = pd.read_json('Cell_Phones_and_Accessories.json',encoding='utf-8')"
   ]
  },
  {
   "cell_type": "code",
   "execution_count": 399,
   "metadata": {},
   "outputs": [
    {
     "data": {
      "text/html": [
       "<div>\n",
       "<style scoped>\n",
       "    .dataframe tbody tr th:only-of-type {\n",
       "        vertical-align: middle;\n",
       "    }\n",
       "\n",
       "    .dataframe tbody tr th {\n",
       "        vertical-align: top;\n",
       "    }\n",
       "\n",
       "    .dataframe thead th {\n",
       "        text-align: right;\n",
       "    }\n",
       "</style>\n",
       "<table border=\"1\" class=\"dataframe\">\n",
       "  <thead>\n",
       "    <tr style=\"text-align: right;\">\n",
       "      <th></th>\n",
       "      <th>Rating</th>\n",
       "      <th>Rev_verify</th>\n",
       "      <th>Review_Date</th>\n",
       "      <th>IC</th>\n",
       "      <th>Prod_meta</th>\n",
       "      <th>Reviewer_Name</th>\n",
       "      <th>Review</th>\n",
       "      <th>Rev_summ</th>\n",
       "      <th>Review_timestamp</th>\n",
       "      <th>Useful</th>\n",
       "      <th>Prod_img</th>\n",
       "    </tr>\n",
       "  </thead>\n",
       "  <tbody>\n",
       "    <tr>\n",
       "      <th>0</th>\n",
       "      <td>5</td>\n",
       "      <td>True</td>\n",
       "      <td>09 1, 2015</td>\n",
       "      <td>B009XD5TPQ</td>\n",
       "      <td>None</td>\n",
       "      <td>Sunny  Zoeller</td>\n",
       "      <td>Bought it for my husband. He's very happy with it</td>\n",
       "      <td>He's very happy with</td>\n",
       "      <td>1441065600</td>\n",
       "      <td>None</td>\n",
       "      <td>None</td>\n",
       "    </tr>\n",
       "    <tr>\n",
       "      <th>1</th>\n",
       "      <td>5</td>\n",
       "      <td>True</td>\n",
       "      <td>01 9, 2016</td>\n",
       "      <td>B016MF3P3K</td>\n",
       "      <td>None</td>\n",
       "      <td>Denise Lesley</td>\n",
       "      <td>Great screen protector.  Doesn't even seem as ...</td>\n",
       "      <td>Five Stars</td>\n",
       "      <td>1452297600</td>\n",
       "      <td>None</td>\n",
       "      <td>None</td>\n",
       "    </tr>\n",
       "    <tr>\n",
       "      <th>2</th>\n",
       "      <td>5</td>\n",
       "      <td>True</td>\n",
       "      <td>04 21, 2013</td>\n",
       "      <td>B008DC8N5G</td>\n",
       "      <td>None</td>\n",
       "      <td>Emir</td>\n",
       "      <td>Saved me lots of money! it's not gorilla glass...</td>\n",
       "      <td>As long as you know how to put it on!</td>\n",
       "      <td>1366502400</td>\n",
       "      <td>None</td>\n",
       "      <td>None</td>\n",
       "    </tr>\n",
       "    <tr>\n",
       "      <th>3</th>\n",
       "      <td>3</td>\n",
       "      <td>True</td>\n",
       "      <td>02 27, 2013</td>\n",
       "      <td>B0089CH3TM</td>\n",
       "      <td>{'Color:': ' Green'}</td>\n",
       "      <td>Alyse</td>\n",
       "      <td>The material and fit is very nice, but the col...</td>\n",
       "      <td>Good case overall</td>\n",
       "      <td>1361923200</td>\n",
       "      <td>3</td>\n",
       "      <td>None</td>\n",
       "    </tr>\n",
       "    <tr>\n",
       "      <th>4</th>\n",
       "      <td>4</td>\n",
       "      <td>True</td>\n",
       "      <td>12 19, 2013</td>\n",
       "      <td>B00AKZWGAC</td>\n",
       "      <td>None</td>\n",
       "      <td>TechGuy</td>\n",
       "      <td>This last me about 3 days till i have to charg...</td>\n",
       "      <td>Awesome Battery</td>\n",
       "      <td>1387411200</td>\n",
       "      <td>None</td>\n",
       "      <td>None</td>\n",
       "    </tr>\n",
       "  </tbody>\n",
       "</table>\n",
       "</div>"
      ],
      "text/plain": [
       "   Rating  Rev_verify  Review_Date          IC             Prod_meta  \\\n",
       "0       5        True   09 1, 2015  B009XD5TPQ                  None   \n",
       "1       5        True   01 9, 2016  B016MF3P3K                  None   \n",
       "2       5        True  04 21, 2013  B008DC8N5G                  None   \n",
       "3       3        True  02 27, 2013  B0089CH3TM  {'Color:': ' Green'}   \n",
       "4       4        True  12 19, 2013  B00AKZWGAC                  None   \n",
       "\n",
       "    Reviewer_Name                                             Review  \\\n",
       "0  Sunny  Zoeller  Bought it for my husband. He's very happy with it   \n",
       "1   Denise Lesley  Great screen protector.  Doesn't even seem as ...   \n",
       "2            Emir  Saved me lots of money! it's not gorilla glass...   \n",
       "3           Alyse  The material and fit is very nice, but the col...   \n",
       "4         TechGuy  This last me about 3 days till i have to charg...   \n",
       "\n",
       "                                Rev_summ  Review_timestamp Useful Prod_img  \n",
       "0                   He's very happy with        1441065600   None     None  \n",
       "1                             Five Stars        1452297600   None     None  \n",
       "2  As long as you know how to put it on!        1366502400   None     None  \n",
       "3                      Good case overall        1361923200      3     None  \n",
       "4                        Awesome Battery        1387411200   None     None  "
      ]
     },
     "execution_count": 399,
     "metadata": {},
     "output_type": "execute_result"
    }
   ],
   "source": [
    "df.head()"
   ]
  },
  {
   "cell_type": "code",
   "execution_count": 400,
   "metadata": {},
   "outputs": [
    {
     "data": {
      "text/html": [
       "<div>\n",
       "<style scoped>\n",
       "    .dataframe tbody tr th:only-of-type {\n",
       "        vertical-align: middle;\n",
       "    }\n",
       "\n",
       "    .dataframe tbody tr th {\n",
       "        vertical-align: top;\n",
       "    }\n",
       "\n",
       "    .dataframe thead th {\n",
       "        text-align: right;\n",
       "    }\n",
       "</style>\n",
       "<table border=\"1\" class=\"dataframe\">\n",
       "  <thead>\n",
       "    <tr style=\"text-align: right;\">\n",
       "      <th></th>\n",
       "      <th>Rating</th>\n",
       "      <th>Rev_verify</th>\n",
       "      <th>Review_Date</th>\n",
       "      <th>IC</th>\n",
       "      <th>Prod_meta</th>\n",
       "      <th>Reviewer_Name</th>\n",
       "      <th>Review</th>\n",
       "      <th>Rev_summ</th>\n",
       "      <th>Review_timestamp</th>\n",
       "      <th>Useful</th>\n",
       "      <th>Prod_img</th>\n",
       "    </tr>\n",
       "  </thead>\n",
       "  <tbody>\n",
       "    <tr>\n",
       "      <th>1135</th>\n",
       "      <td>5</td>\n",
       "      <td>False</td>\n",
       "      <td>02 18, 2016</td>\n",
       "      <td>B004F1F9P6</td>\n",
       "      <td>None</td>\n",
       "      <td>W. T.</td>\n",
       "      <td>I live where it's a maybe to make a call insid...</td>\n",
       "      <td>Great Device !!!</td>\n",
       "      <td>1455753600</td>\n",
       "      <td>None</td>\n",
       "      <td>None</td>\n",
       "    </tr>\n",
       "    <tr>\n",
       "      <th>1136</th>\n",
       "      <td>5</td>\n",
       "      <td>True</td>\n",
       "      <td>07 24, 2016</td>\n",
       "      <td>B01CCUDUYS</td>\n",
       "      <td>None</td>\n",
       "      <td>Ant and mel +1 and 2 crazy dogs</td>\n",
       "      <td>Great set of cables!! works well!! just as pic...</td>\n",
       "      <td>Great set of cables!</td>\n",
       "      <td>1469318400</td>\n",
       "      <td>None</td>\n",
       "      <td>None</td>\n",
       "    </tr>\n",
       "    <tr>\n",
       "      <th>1137</th>\n",
       "      <td>5</td>\n",
       "      <td>True</td>\n",
       "      <td>06 15, 2016</td>\n",
       "      <td>B013JNAUMW</td>\n",
       "      <td>None</td>\n",
       "      <td>Mohamed</td>\n",
       "      <td>Very good items</td>\n",
       "      <td>Four Stars</td>\n",
       "      <td>1465948800</td>\n",
       "      <td>None</td>\n",
       "      <td>None</td>\n",
       "    </tr>\n",
       "    <tr>\n",
       "      <th>1138</th>\n",
       "      <td>5</td>\n",
       "      <td>True</td>\n",
       "      <td>07 16, 2013</td>\n",
       "      <td>B009CEZGKE</td>\n",
       "      <td>None</td>\n",
       "      <td>H. A. Syed</td>\n",
       "      <td>For normal use its a great phone. Using it for...</td>\n",
       "      <td>AT&amp;T Fusion 2 GoPhone (AT&amp;T)</td>\n",
       "      <td>1373932800</td>\n",
       "      <td>None</td>\n",
       "      <td>None</td>\n",
       "    </tr>\n",
       "    <tr>\n",
       "      <th>1139</th>\n",
       "      <td>5</td>\n",
       "      <td>True</td>\n",
       "      <td>01 25, 2018</td>\n",
       "      <td>B01GJC4YMC</td>\n",
       "      <td>{'Color:': ' Red 6.5ft'}</td>\n",
       "      <td>Terre</td>\n",
       "      <td>It works perfectly.</td>\n",
       "      <td>Works well and is strong.</td>\n",
       "      <td>1516838400</td>\n",
       "      <td>None</td>\n",
       "      <td>None</td>\n",
       "    </tr>\n",
       "    <tr>\n",
       "      <th>1140</th>\n",
       "      <td>5</td>\n",
       "      <td>True</td>\n",
       "      <td>10 17, 2016</td>\n",
       "      <td>B00MR9BKMY</td>\n",
       "      <td>None</td>\n",
       "      <td>Gizmo</td>\n",
       "      <td>Just as good as the otter box. Purchased after...</td>\n",
       "      <td>None</td>\n",
       "      <td>1476662400</td>\n",
       "      <td>None</td>\n",
       "      <td>None</td>\n",
       "    </tr>\n",
       "    <tr>\n",
       "      <th>1141</th>\n",
       "      <td>4</td>\n",
       "      <td>True</td>\n",
       "      <td>01 8, 2015</td>\n",
       "      <td>B00OTIXH5O</td>\n",
       "      <td>{'Color:': ' Silver'}</td>\n",
       "      <td>Will</td>\n",
       "      <td>Looks great, doesn't bother signal, &amp; \"Samsung...</td>\n",
       "      <td>Now this feels like a $700 phone!</td>\n",
       "      <td>1420675200</td>\n",
       "      <td>None</td>\n",
       "      <td>None</td>\n",
       "    </tr>\n",
       "    <tr>\n",
       "      <th>1142</th>\n",
       "      <td>5</td>\n",
       "      <td>True</td>\n",
       "      <td>06 21, 2015</td>\n",
       "      <td>B00MAWQVZY</td>\n",
       "      <td>{'Color:': ' TA Gunmetal', 'Package Type:': ' ...</td>\n",
       "      <td>David</td>\n",
       "      <td>I've used Spigen on my Note 3 since I got it 2...</td>\n",
       "      <td>Awesome protection</td>\n",
       "      <td>1434844800</td>\n",
       "      <td>None</td>\n",
       "      <td>None</td>\n",
       "    </tr>\n",
       "    <tr>\n",
       "      <th>1143</th>\n",
       "      <td>3</td>\n",
       "      <td>True</td>\n",
       "      <td>04 25, 2015</td>\n",
       "      <td>B00N5T7MKO</td>\n",
       "      <td>None</td>\n",
       "      <td>Linda C.</td>\n",
       "      <td>Smaller than what I expected, but okay.</td>\n",
       "      <td>Three Stars</td>\n",
       "      <td>1429920000</td>\n",
       "      <td>None</td>\n",
       "      <td>None</td>\n",
       "    </tr>\n",
       "    <tr>\n",
       "      <th>1144</th>\n",
       "      <td>5</td>\n",
       "      <td>True</td>\n",
       "      <td>01 10, 2017</td>\n",
       "      <td>B01GIWFRHO</td>\n",
       "      <td>{'Color:': ' Crystal Clear'}</td>\n",
       "      <td>Finkster</td>\n",
       "      <td>Bought this as a quick temporary case, but it'...</td>\n",
       "      <td>Thought this would be a temp case, but it's st...</td>\n",
       "      <td>1484006400</td>\n",
       "      <td>None</td>\n",
       "      <td>None</td>\n",
       "    </tr>\n",
       "  </tbody>\n",
       "</table>\n",
       "</div>"
      ],
      "text/plain": [
       "      Rating  Rev_verify  Review_Date          IC  \\\n",
       "1135       5       False  02 18, 2016  B004F1F9P6   \n",
       "1136       5        True  07 24, 2016  B01CCUDUYS   \n",
       "1137       5        True  06 15, 2016  B013JNAUMW   \n",
       "1138       5        True  07 16, 2013  B009CEZGKE   \n",
       "1139       5        True  01 25, 2018  B01GJC4YMC   \n",
       "1140       5        True  10 17, 2016  B00MR9BKMY   \n",
       "1141       4        True   01 8, 2015  B00OTIXH5O   \n",
       "1142       5        True  06 21, 2015  B00MAWQVZY   \n",
       "1143       3        True  04 25, 2015  B00N5T7MKO   \n",
       "1144       5        True  01 10, 2017  B01GIWFRHO   \n",
       "\n",
       "                                              Prod_meta  \\\n",
       "1135                                               None   \n",
       "1136                                               None   \n",
       "1137                                               None   \n",
       "1138                                               None   \n",
       "1139                           {'Color:': ' Red 6.5ft'}   \n",
       "1140                                               None   \n",
       "1141                              {'Color:': ' Silver'}   \n",
       "1142  {'Color:': ' TA Gunmetal', 'Package Type:': ' ...   \n",
       "1143                                               None   \n",
       "1144                       {'Color:': ' Crystal Clear'}   \n",
       "\n",
       "                        Reviewer_Name  \\\n",
       "1135                            W. T.   \n",
       "1136  Ant and mel +1 and 2 crazy dogs   \n",
       "1137                          Mohamed   \n",
       "1138                       H. A. Syed   \n",
       "1139                            Terre   \n",
       "1140                            Gizmo   \n",
       "1141                             Will   \n",
       "1142                            David   \n",
       "1143                         Linda C.   \n",
       "1144                         Finkster   \n",
       "\n",
       "                                                 Review  \\\n",
       "1135  I live where it's a maybe to make a call insid...   \n",
       "1136  Great set of cables!! works well!! just as pic...   \n",
       "1137                                    Very good items   \n",
       "1138  For normal use its a great phone. Using it for...   \n",
       "1139                                It works perfectly.   \n",
       "1140  Just as good as the otter box. Purchased after...   \n",
       "1141  Looks great, doesn't bother signal, & \"Samsung...   \n",
       "1142  I've used Spigen on my Note 3 since I got it 2...   \n",
       "1143            Smaller than what I expected, but okay.   \n",
       "1144  Bought this as a quick temporary case, but it'...   \n",
       "\n",
       "                                               Rev_summ  Review_timestamp  \\\n",
       "1135                                   Great Device !!!        1455753600   \n",
       "1136                               Great set of cables!        1469318400   \n",
       "1137                                         Four Stars        1465948800   \n",
       "1138                       AT&T Fusion 2 GoPhone (AT&T)        1373932800   \n",
       "1139                          Works well and is strong.        1516838400   \n",
       "1140                                               None        1476662400   \n",
       "1141                  Now this feels like a $700 phone!        1420675200   \n",
       "1142                                 Awesome protection        1434844800   \n",
       "1143                                        Three Stars        1429920000   \n",
       "1144  Thought this would be a temp case, but it's st...        1484006400   \n",
       "\n",
       "     Useful Prod_img  \n",
       "1135   None     None  \n",
       "1136   None     None  \n",
       "1137   None     None  \n",
       "1138   None     None  \n",
       "1139   None     None  \n",
       "1140   None     None  \n",
       "1141   None     None  \n",
       "1142   None     None  \n",
       "1143   None     None  \n",
       "1144   None     None  "
      ]
     },
     "execution_count": 400,
     "metadata": {},
     "output_type": "execute_result"
    }
   ],
   "source": [
    "df[1135:1145] #df[1140] is present here.after deleting by dropna technique the index is not getting rearanged.\n",
    "#Dats y its giving error : 1140 while applying NLP techniques\n",
    "#We have to rearrange the index after removing unnecessary columns.\n",
    "#Then only we can proceed.\n"
   ]
  },
  {
   "cell_type": "code",
   "execution_count": 401,
   "metadata": {},
   "outputs": [
    {
     "data": {
      "text/plain": [
       "(760450, 11)"
      ]
     },
     "execution_count": 401,
     "metadata": {},
     "output_type": "execute_result"
    }
   ],
   "source": [
    "df.shape"
   ]
  },
  {
   "cell_type": "code",
   "execution_count": 402,
   "metadata": {},
   "outputs": [
    {
     "data": {
      "text/plain": [
       "Rating               int64\n",
       "Rev_verify            bool\n",
       "Review_Date         object\n",
       "IC                  object\n",
       "Prod_meta           object\n",
       "Reviewer_Name       object\n",
       "Review              object\n",
       "Rev_summ            object\n",
       "Review_timestamp     int64\n",
       "Useful              object\n",
       "Prod_img            object\n",
       "dtype: object"
      ]
     },
     "execution_count": 402,
     "metadata": {},
     "output_type": "execute_result"
    }
   ],
   "source": [
    "df.dtypes"
   ]
  },
  {
   "cell_type": "markdown",
   "metadata": {},
   "source": [
    "# Features abbreviations"
   ]
  },
  {
   "cell_type": "raw",
   "metadata": {},
   "source": [
    " IC – Item Code of the product, e.g. B016MF3P3K\n",
    " Reviewer_Name - Name of the reviewer\n",
    " Useful- Number of useful votes (upvotes) of the review\n",
    " Prod_meta- a dictionary of the product metadata. It contains only additional information about the\n",
    "product, if any available.\n",
    " Review- text of the review\n",
    " Rating- rating given to the product by the reviewer.\n",
    " Rev_summ- summary of the review\n",
    " Review_timestamp- time when the review has been posted (unix time format)\n",
    " Review_Date- Date when the review has been posted\n",
    " Prod_img- images that users post after they have received the product\n",
    " Rev_verify- Flag to represent whether the review has been verified or not. (True/False)\n"
   ]
  },
  {
   "cell_type": "markdown",
   "metadata": {},
   "source": [
    "# EDA by sweetviz library"
   ]
  },
  {
   "cell_type": "raw",
   "metadata": {},
   "source": [
    "import sweetviz\n",
    "my_report1=sweetviz.analyze([df,'df']) #no target_feat\n",
    "\n",
    "#TypeError: unhashable type: 'dict'\n",
    "As some data contains punctuations in Prod_Meta feature(e.g-{'Color:': ' Green'})\n",
    "We will convert it into some acceptable form later and applt sweetviz and dtale library for EDA purpose at the end of this notebook."
   ]
  },
  {
   "cell_type": "code",
   "execution_count": 403,
   "metadata": {},
   "outputs": [
    {
     "data": {
      "text/plain": [
       "pandas.core.frame.DataFrame"
      ]
     },
     "execution_count": 403,
     "metadata": {},
     "output_type": "execute_result"
    }
   ],
   "source": [
    "#TypeError: unhashable type: 'dict'--------This error is due to data.the data is still a dataframe.not a dictionary.\n",
    "type(df)"
   ]
  },
  {
   "cell_type": "markdown",
   "metadata": {},
   "source": [
    "# Feature Engineering"
   ]
  },
  {
   "cell_type": "markdown",
   "metadata": {},
   "source": [
    "# checking for null values"
   ]
  },
  {
   "cell_type": "code",
   "execution_count": 404,
   "metadata": {},
   "outputs": [
    {
     "data": {
      "text/plain": [
       "Rating                   0\n",
       "Rev_verify               0\n",
       "Review_Date              0\n",
       "IC                       0\n",
       "Prod_meta           352624\n",
       "Reviewer_Name           91\n",
       "Review                 530\n",
       "Rev_summ               355\n",
       "Review_timestamp         0\n",
       "Useful              698250\n",
       "Prod_img            742256\n",
       "dtype: int64"
      ]
     },
     "execution_count": 404,
     "metadata": {},
     "output_type": "execute_result"
    }
   ],
   "source": [
    "df.isnull().sum()"
   ]
  },
  {
   "cell_type": "code",
   "execution_count": 405,
   "metadata": {},
   "outputs": [
    {
     "data": {
      "text/plain": [
       "<matplotlib.axes._subplots.AxesSubplot at 0x24f982da9a0>"
      ]
     },
     "execution_count": 405,
     "metadata": {},
     "output_type": "execute_result"
    },
    {
     "data": {
      "image/png": "[encoded data removed]",
      "text/plain": [
       "<Figure size 432x288 with 2 Axes>"
      ]
     },
     "metadata": {
      "needs_background": "light"
     },
     "output_type": "display_data"
    }
   ],
   "source": [
    "import seaborn as sns\n",
    "sns.heatmap(df.isnull())"
   ]
  },
  {
   "cell_type": "markdown",
   "metadata": {},
   "source": [
    "# There are many null values in th dataset which are to be treated accordingly and with logic of replacement"
   ]
  },
  {
   "cell_type": "code",
   "execution_count": 406,
   "metadata": {},
   "outputs": [
    {
     "data": {
      "text/plain": [
       "Rating                   0\n",
       "Rev_verify               0\n",
       "Review_Date              0\n",
       "IC                       0\n",
       "Prod_meta           352624\n",
       "Reviewer_Name           91\n",
       "Review                 530\n",
       "Rev_summ               355\n",
       "Review_timestamp         0\n",
       "Useful              698250\n",
       "Prod_img            742256\n",
       "dtype: int64"
      ]
     },
     "execution_count": 406,
     "metadata": {},
     "output_type": "execute_result"
    }
   ],
   "source": [
    "df.isnull().sum()"
   ]
  },
  {
   "cell_type": "raw",
   "metadata": {},
   "source": [
    "Prod_meta           352624 ~(50%)\n",
    "Useful              698250 ~(90 %)\n",
    "Prod_img            742256 ~(90 %)\n",
    "All above features have more than 50% missing data.hence we can  these columns."
   ]
  },
  {
   "cell_type": "markdown",
   "metadata": {},
   "source": [
    "# Dropping 'Useful' & 'Prod_img' features"
   ]
  },
  {
   "cell_type": "code",
   "execution_count": 407,
   "metadata": {},
   "outputs": [],
   "source": [
    "df=df.drop(['Prod_meta','Useful','Prod_img'],axis=1)"
   ]
  },
  {
   "cell_type": "code",
   "execution_count": 408,
   "metadata": {},
   "outputs": [
    {
     "data": {
      "text/plain": [
       "(760450, 8)"
      ]
     },
     "execution_count": 408,
     "metadata": {},
     "output_type": "execute_result"
    }
   ],
   "source": [
    "df.shape"
   ]
  },
  {
   "cell_type": "code",
   "execution_count": 409,
   "metadata": {},
   "outputs": [
    {
     "data": {
      "text/html": [
       "<div>\n",
       "<style scoped>\n",
       "    .dataframe tbody tr th:only-of-type {\n",
       "        vertical-align: middle;\n",
       "    }\n",
       "\n",
       "    .dataframe tbody tr th {\n",
       "        vertical-align: top;\n",
       "    }\n",
       "\n",
       "    .dataframe thead th {\n",
       "        text-align: right;\n",
       "    }\n",
       "</style>\n",
       "<table border=\"1\" class=\"dataframe\">\n",
       "  <thead>\n",
       "    <tr style=\"text-align: right;\">\n",
       "      <th></th>\n",
       "      <th>Rating</th>\n",
       "      <th>Rev_verify</th>\n",
       "      <th>Review_Date</th>\n",
       "      <th>IC</th>\n",
       "      <th>Reviewer_Name</th>\n",
       "      <th>Review</th>\n",
       "      <th>Rev_summ</th>\n",
       "      <th>Review_timestamp</th>\n",
       "    </tr>\n",
       "  </thead>\n",
       "  <tbody>\n",
       "    <tr>\n",
       "      <th>0</th>\n",
       "      <td>5</td>\n",
       "      <td>True</td>\n",
       "      <td>09 1, 2015</td>\n",
       "      <td>B009XD5TPQ</td>\n",
       "      <td>Sunny  Zoeller</td>\n",
       "      <td>Bought it for my husband. He's very happy with it</td>\n",
       "      <td>He's very happy with</td>\n",
       "      <td>1441065600</td>\n",
       "    </tr>\n",
       "    <tr>\n",
       "      <th>1</th>\n",
       "      <td>5</td>\n",
       "      <td>True</td>\n",
       "      <td>01 9, 2016</td>\n",
       "      <td>B016MF3P3K</td>\n",
       "      <td>Denise Lesley</td>\n",
       "      <td>Great screen protector.  Doesn't even seem as ...</td>\n",
       "      <td>Five Stars</td>\n",
       "      <td>1452297600</td>\n",
       "    </tr>\n",
       "    <tr>\n",
       "      <th>2</th>\n",
       "      <td>5</td>\n",
       "      <td>True</td>\n",
       "      <td>04 21, 2013</td>\n",
       "      <td>B008DC8N5G</td>\n",
       "      <td>Emir</td>\n",
       "      <td>Saved me lots of money! it's not gorilla glass...</td>\n",
       "      <td>As long as you know how to put it on!</td>\n",
       "      <td>1366502400</td>\n",
       "    </tr>\n",
       "    <tr>\n",
       "      <th>3</th>\n",
       "      <td>3</td>\n",
       "      <td>True</td>\n",
       "      <td>02 27, 2013</td>\n",
       "      <td>B0089CH3TM</td>\n",
       "      <td>Alyse</td>\n",
       "      <td>The material and fit is very nice, but the col...</td>\n",
       "      <td>Good case overall</td>\n",
       "      <td>1361923200</td>\n",
       "    </tr>\n",
       "    <tr>\n",
       "      <th>4</th>\n",
       "      <td>4</td>\n",
       "      <td>True</td>\n",
       "      <td>12 19, 2013</td>\n",
       "      <td>B00AKZWGAC</td>\n",
       "      <td>TechGuy</td>\n",
       "      <td>This last me about 3 days till i have to charg...</td>\n",
       "      <td>Awesome Battery</td>\n",
       "      <td>1387411200</td>\n",
       "    </tr>\n",
       "  </tbody>\n",
       "</table>\n",
       "</div>"
      ],
      "text/plain": [
       "   Rating  Rev_verify  Review_Date          IC   Reviewer_Name  \\\n",
       "0       5        True   09 1, 2015  B009XD5TPQ  Sunny  Zoeller   \n",
       "1       5        True   01 9, 2016  B016MF3P3K   Denise Lesley   \n",
       "2       5        True  04 21, 2013  B008DC8N5G            Emir   \n",
       "3       3        True  02 27, 2013  B0089CH3TM           Alyse   \n",
       "4       4        True  12 19, 2013  B00AKZWGAC         TechGuy   \n",
       "\n",
       "                                              Review  \\\n",
       "0  Bought it for my husband. He's very happy with it   \n",
       "1  Great screen protector.  Doesn't even seem as ...   \n",
       "2  Saved me lots of money! it's not gorilla glass...   \n",
       "3  The material and fit is very nice, but the col...   \n",
       "4  This last me about 3 days till i have to charg...   \n",
       "\n",
       "                                Rev_summ  Review_timestamp  \n",
       "0                   He's very happy with        1441065600  \n",
       "1                             Five Stars        1452297600  \n",
       "2  As long as you know how to put it on!        1366502400  \n",
       "3                      Good case overall        1361923200  \n",
       "4                        Awesome Battery        1387411200  "
      ]
     },
     "execution_count": 409,
     "metadata": {},
     "output_type": "execute_result"
    }
   ],
   "source": [
    "df.head()"
   ]
  },
  {
   "cell_type": "code",
   "execution_count": 410,
   "metadata": {},
   "outputs": [
    {
     "data": {
      "text/plain": [
       "Rating               int64\n",
       "Rev_verify            bool\n",
       "Review_Date         object\n",
       "IC                  object\n",
       "Reviewer_Name       object\n",
       "Review              object\n",
       "Rev_summ            object\n",
       "Review_timestamp     int64\n",
       "dtype: object"
      ]
     },
     "execution_count": 410,
     "metadata": {},
     "output_type": "execute_result"
    }
   ],
   "source": [
    "df.dtypes"
   ]
  },
  {
   "cell_type": "code",
   "execution_count": 411,
   "metadata": {},
   "outputs": [
    {
     "data": {
      "text/plain": [
       "Rating                0\n",
       "Rev_verify            0\n",
       "Review_Date           0\n",
       "IC                    0\n",
       "Reviewer_Name        91\n",
       "Review              530\n",
       "Rev_summ            355\n",
       "Review_timestamp      0\n",
       "dtype: int64"
      ]
     },
     "execution_count": 411,
     "metadata": {},
     "output_type": "execute_result"
    }
   ],
   "source": [
    "df.isnull().sum()"
   ]
  },
  {
   "cell_type": "markdown",
   "metadata": {},
   "source": [
    "# 'Reviewer_Name'"
   ]
  },
  {
   "cell_type": "code",
   "execution_count": 412,
   "metadata": {},
   "outputs": [],
   "source": [
    "#df['Reviewer_Name'].mode()[0]"
   ]
  },
  {
   "cell_type": "code",
   "execution_count": 413,
   "metadata": {},
   "outputs": [],
   "source": [
    "df['Reviewer_Name']=df['Reviewer_Name'].mode()[0]"
   ]
  },
  {
   "cell_type": "code",
   "execution_count": 414,
   "metadata": {},
   "outputs": [
    {
     "data": {
      "text/plain": [
       "Rating                0\n",
       "Rev_verify            0\n",
       "Review_Date           0\n",
       "IC                    0\n",
       "Reviewer_Name         0\n",
       "Review              530\n",
       "Rev_summ            355\n",
       "Review_timestamp      0\n",
       "dtype: int64"
      ]
     },
     "execution_count": 414,
     "metadata": {},
     "output_type": "execute_result"
    }
   ],
   "source": [
    "df.isnull().sum()"
   ]
  },
  {
   "cell_type": "markdown",
   "metadata": {},
   "source": [
    "# We will delete rows of features 'Review','Rev_summ'  which are having null values as taking mode is not a good idea for 'Review' feature."
   ]
  },
  {
   "cell_type": "code",
   "execution_count": 415,
   "metadata": {},
   "outputs": [
    {
     "data": {
      "text/plain": [
       "(760450, 8)"
      ]
     },
     "execution_count": 415,
     "metadata": {},
     "output_type": "execute_result"
    }
   ],
   "source": [
    "df.shape"
   ]
  },
  {
   "cell_type": "code",
   "execution_count": 416,
   "metadata": {},
   "outputs": [
    {
     "data": {
      "text/html": [
       "<div>\n",
       "<style scoped>\n",
       "    .dataframe tbody tr th:only-of-type {\n",
       "        vertical-align: middle;\n",
       "    }\n",
       "\n",
       "    .dataframe tbody tr th {\n",
       "        vertical-align: top;\n",
       "    }\n",
       "\n",
       "    .dataframe thead th {\n",
       "        text-align: right;\n",
       "    }\n",
       "</style>\n",
       "<table border=\"1\" class=\"dataframe\">\n",
       "  <thead>\n",
       "    <tr style=\"text-align: right;\">\n",
       "      <th></th>\n",
       "      <th>Rating</th>\n",
       "      <th>Rev_verify</th>\n",
       "      <th>Review_Date</th>\n",
       "      <th>IC</th>\n",
       "      <th>Reviewer_Name</th>\n",
       "      <th>Review</th>\n",
       "      <th>Rev_summ</th>\n",
       "      <th>Review_timestamp</th>\n",
       "    </tr>\n",
       "  </thead>\n",
       "  <tbody>\n",
       "    <tr>\n",
       "      <th>1135</th>\n",
       "      <td>5</td>\n",
       "      <td>False</td>\n",
       "      <td>02 18, 2016</td>\n",
       "      <td>B004F1F9P6</td>\n",
       "      <td>Amazon Customer</td>\n",
       "      <td>I live where it's a maybe to make a call insid...</td>\n",
       "      <td>Great Device !!!</td>\n",
       "      <td>1455753600</td>\n",
       "    </tr>\n",
       "    <tr>\n",
       "      <th>1136</th>\n",
       "      <td>5</td>\n",
       "      <td>True</td>\n",
       "      <td>07 24, 2016</td>\n",
       "      <td>B01CCUDUYS</td>\n",
       "      <td>Amazon Customer</td>\n",
       "      <td>Great set of cables!! works well!! just as pic...</td>\n",
       "      <td>Great set of cables!</td>\n",
       "      <td>1469318400</td>\n",
       "    </tr>\n",
       "    <tr>\n",
       "      <th>1137</th>\n",
       "      <td>5</td>\n",
       "      <td>True</td>\n",
       "      <td>06 15, 2016</td>\n",
       "      <td>B013JNAUMW</td>\n",
       "      <td>Amazon Customer</td>\n",
       "      <td>Very good items</td>\n",
       "      <td>Four Stars</td>\n",
       "      <td>1465948800</td>\n",
       "    </tr>\n",
       "    <tr>\n",
       "      <th>1138</th>\n",
       "      <td>5</td>\n",
       "      <td>True</td>\n",
       "      <td>07 16, 2013</td>\n",
       "      <td>B009CEZGKE</td>\n",
       "      <td>Amazon Customer</td>\n",
       "      <td>For normal use its a great phone. Using it for...</td>\n",
       "      <td>AT&amp;T Fusion 2 GoPhone (AT&amp;T)</td>\n",
       "      <td>1373932800</td>\n",
       "    </tr>\n",
       "    <tr>\n",
       "      <th>1139</th>\n",
       "      <td>5</td>\n",
       "      <td>True</td>\n",
       "      <td>01 25, 2018</td>\n",
       "      <td>B01GJC4YMC</td>\n",
       "      <td>Amazon Customer</td>\n",
       "      <td>It works perfectly.</td>\n",
       "      <td>Works well and is strong.</td>\n",
       "      <td>1516838400</td>\n",
       "    </tr>\n",
       "    <tr>\n",
       "      <th>1140</th>\n",
       "      <td>5</td>\n",
       "      <td>True</td>\n",
       "      <td>10 17, 2016</td>\n",
       "      <td>B00MR9BKMY</td>\n",
       "      <td>Amazon Customer</td>\n",
       "      <td>Just as good as the otter box. Purchased after...</td>\n",
       "      <td>None</td>\n",
       "      <td>1476662400</td>\n",
       "    </tr>\n",
       "    <tr>\n",
       "      <th>1141</th>\n",
       "      <td>4</td>\n",
       "      <td>True</td>\n",
       "      <td>01 8, 2015</td>\n",
       "      <td>B00OTIXH5O</td>\n",
       "      <td>Amazon Customer</td>\n",
       "      <td>Looks great, doesn't bother signal, &amp; \"Samsung...</td>\n",
       "      <td>Now this feels like a $700 phone!</td>\n",
       "      <td>1420675200</td>\n",
       "    </tr>\n",
       "    <tr>\n",
       "      <th>1142</th>\n",
       "      <td>5</td>\n",
       "      <td>True</td>\n",
       "      <td>06 21, 2015</td>\n",
       "      <td>B00MAWQVZY</td>\n",
       "      <td>Amazon Customer</td>\n",
       "      <td>I've used Spigen on my Note 3 since I got it 2...</td>\n",
       "      <td>Awesome protection</td>\n",
       "      <td>1434844800</td>\n",
       "    </tr>\n",
       "    <tr>\n",
       "      <th>1143</th>\n",
       "      <td>3</td>\n",
       "      <td>True</td>\n",
       "      <td>04 25, 2015</td>\n",
       "      <td>B00N5T7MKO</td>\n",
       "      <td>Amazon Customer</td>\n",
       "      <td>Smaller than what I expected, but okay.</td>\n",
       "      <td>Three Stars</td>\n",
       "      <td>1429920000</td>\n",
       "    </tr>\n",
       "    <tr>\n",
       "      <th>1144</th>\n",
       "      <td>5</td>\n",
       "      <td>True</td>\n",
       "      <td>01 10, 2017</td>\n",
       "      <td>B01GIWFRHO</td>\n",
       "      <td>Amazon Customer</td>\n",
       "      <td>Bought this as a quick temporary case, but it'...</td>\n",
       "      <td>Thought this would be a temp case, but it's st...</td>\n",
       "      <td>1484006400</td>\n",
       "    </tr>\n",
       "  </tbody>\n",
       "</table>\n",
       "</div>"
      ],
      "text/plain": [
       "      Rating  Rev_verify  Review_Date          IC    Reviewer_Name  \\\n",
       "1135       5       False  02 18, 2016  B004F1F9P6  Amazon Customer   \n",
       "1136       5        True  07 24, 2016  B01CCUDUYS  Amazon Customer   \n",
       "1137       5        True  06 15, 2016  B013JNAUMW  Amazon Customer   \n",
       "1138       5        True  07 16, 2013  B009CEZGKE  Amazon Customer   \n",
       "1139       5        True  01 25, 2018  B01GJC4YMC  Amazon Customer   \n",
       "1140       5        True  10 17, 2016  B00MR9BKMY  Amazon Customer   \n",
       "1141       4        True   01 8, 2015  B00OTIXH5O  Amazon Customer   \n",
       "1142       5        True  06 21, 2015  B00MAWQVZY  Amazon Customer   \n",
       "1143       3        True  04 25, 2015  B00N5T7MKO  Amazon Customer   \n",
       "1144       5        True  01 10, 2017  B01GIWFRHO  Amazon Customer   \n",
       "\n",
       "                                                 Review  \\\n",
       "1135  I live where it's a maybe to make a call insid...   \n",
       "1136  Great set of cables!! works well!! just as pic...   \n",
       "1137                                    Very good items   \n",
       "1138  For normal use its a great phone. Using it for...   \n",
       "1139                                It works perfectly.   \n",
       "1140  Just as good as the otter box. Purchased after...   \n",
       "1141  Looks great, doesn't bother signal, & \"Samsung...   \n",
       "1142  I've used Spigen on my Note 3 since I got it 2...   \n",
       "1143            Smaller than what I expected, but okay.   \n",
       "1144  Bought this as a quick temporary case, but it'...   \n",
       "\n",
       "                                               Rev_summ  Review_timestamp  \n",
       "1135                                   Great Device !!!        1455753600  \n",
       "1136                               Great set of cables!        1469318400  \n",
       "1137                                         Four Stars        1465948800  \n",
       "1138                       AT&T Fusion 2 GoPhone (AT&T)        1373932800  \n",
       "1139                          Works well and is strong.        1516838400  \n",
       "1140                                               None        1476662400  \n",
       "1141                  Now this feels like a $700 phone!        1420675200  \n",
       "1142                                 Awesome protection        1434844800  \n",
       "1143                                        Three Stars        1429920000  \n",
       "1144  Thought this would be a temp case, but it's st...        1484006400  "
      ]
     },
     "execution_count": 416,
     "metadata": {},
     "output_type": "execute_result"
    }
   ],
   "source": [
    "df[1135:1145] #df[1140] index is PRESENT in the dataset now"
   ]
  },
  {
   "cell_type": "code",
   "execution_count": 417,
   "metadata": {},
   "outputs": [],
   "source": [
    "df=df.dropna(how='any')"
   ]
  },
  {
   "cell_type": "code",
   "execution_count": 418,
   "metadata": {},
   "outputs": [
    {
     "data": {
      "text/html": [
       "<div>\n",
       "<style scoped>\n",
       "    .dataframe tbody tr th:only-of-type {\n",
       "        vertical-align: middle;\n",
       "    }\n",
       "\n",
       "    .dataframe tbody tr th {\n",
       "        vertical-align: top;\n",
       "    }\n",
       "\n",
       "    .dataframe thead th {\n",
       "        text-align: right;\n",
       "    }\n",
       "</style>\n",
       "<table border=\"1\" class=\"dataframe\">\n",
       "  <thead>\n",
       "    <tr style=\"text-align: right;\">\n",
       "      <th></th>\n",
       "      <th>Rating</th>\n",
       "      <th>Rev_verify</th>\n",
       "      <th>Review_Date</th>\n",
       "      <th>IC</th>\n",
       "      <th>Reviewer_Name</th>\n",
       "      <th>Review</th>\n",
       "      <th>Rev_summ</th>\n",
       "      <th>Review_timestamp</th>\n",
       "    </tr>\n",
       "  </thead>\n",
       "  <tbody>\n",
       "    <tr>\n",
       "      <th>1135</th>\n",
       "      <td>5</td>\n",
       "      <td>False</td>\n",
       "      <td>02 18, 2016</td>\n",
       "      <td>B004F1F9P6</td>\n",
       "      <td>Amazon Customer</td>\n",
       "      <td>I live where it's a maybe to make a call insid...</td>\n",
       "      <td>Great Device !!!</td>\n",
       "      <td>1455753600</td>\n",
       "    </tr>\n",
       "    <tr>\n",
       "      <th>1136</th>\n",
       "      <td>5</td>\n",
       "      <td>True</td>\n",
       "      <td>07 24, 2016</td>\n",
       "      <td>B01CCUDUYS</td>\n",
       "      <td>Amazon Customer</td>\n",
       "      <td>Great set of cables!! works well!! just as pic...</td>\n",
       "      <td>Great set of cables!</td>\n",
       "      <td>1469318400</td>\n",
       "    </tr>\n",
       "    <tr>\n",
       "      <th>1137</th>\n",
       "      <td>5</td>\n",
       "      <td>True</td>\n",
       "      <td>06 15, 2016</td>\n",
       "      <td>B013JNAUMW</td>\n",
       "      <td>Amazon Customer</td>\n",
       "      <td>Very good items</td>\n",
       "      <td>Four Stars</td>\n",
       "      <td>1465948800</td>\n",
       "    </tr>\n",
       "    <tr>\n",
       "      <th>1138</th>\n",
       "      <td>5</td>\n",
       "      <td>True</td>\n",
       "      <td>07 16, 2013</td>\n",
       "      <td>B009CEZGKE</td>\n",
       "      <td>Amazon Customer</td>\n",
       "      <td>For normal use its a great phone. Using it for...</td>\n",
       "      <td>AT&amp;T Fusion 2 GoPhone (AT&amp;T)</td>\n",
       "      <td>1373932800</td>\n",
       "    </tr>\n",
       "    <tr>\n",
       "      <th>1139</th>\n",
       "      <td>5</td>\n",
       "      <td>True</td>\n",
       "      <td>01 25, 2018</td>\n",
       "      <td>B01GJC4YMC</td>\n",
       "      <td>Amazon Customer</td>\n",
       "      <td>It works perfectly.</td>\n",
       "      <td>Works well and is strong.</td>\n",
       "      <td>1516838400</td>\n",
       "    </tr>\n",
       "    <tr>\n",
       "      <th>1141</th>\n",
       "      <td>4</td>\n",
       "      <td>True</td>\n",
       "      <td>01 8, 2015</td>\n",
       "      <td>B00OTIXH5O</td>\n",
       "      <td>Amazon Customer</td>\n",
       "      <td>Looks great, doesn't bother signal, &amp; \"Samsung...</td>\n",
       "      <td>Now this feels like a $700 phone!</td>\n",
       "      <td>1420675200</td>\n",
       "    </tr>\n",
       "    <tr>\n",
       "      <th>1142</th>\n",
       "      <td>5</td>\n",
       "      <td>True</td>\n",
       "      <td>06 21, 2015</td>\n",
       "      <td>B00MAWQVZY</td>\n",
       "      <td>Amazon Customer</td>\n",
       "      <td>I've used Spigen on my Note 3 since I got it 2...</td>\n",
       "      <td>Awesome protection</td>\n",
       "      <td>1434844800</td>\n",
       "    </tr>\n",
       "    <tr>\n",
       "      <th>1143</th>\n",
       "      <td>3</td>\n",
       "      <td>True</td>\n",
       "      <td>04 25, 2015</td>\n",
       "      <td>B00N5T7MKO</td>\n",
       "      <td>Amazon Customer</td>\n",
       "      <td>Smaller than what I expected, but okay.</td>\n",
       "      <td>Three Stars</td>\n",
       "      <td>1429920000</td>\n",
       "    </tr>\n",
       "    <tr>\n",
       "      <th>1144</th>\n",
       "      <td>5</td>\n",
       "      <td>True</td>\n",
       "      <td>01 10, 2017</td>\n",
       "      <td>B01GIWFRHO</td>\n",
       "      <td>Amazon Customer</td>\n",
       "      <td>Bought this as a quick temporary case, but it'...</td>\n",
       "      <td>Thought this would be a temp case, but it's st...</td>\n",
       "      <td>1484006400</td>\n",
       "    </tr>\n",
       "    <tr>\n",
       "      <th>1145</th>\n",
       "      <td>5</td>\n",
       "      <td>True</td>\n",
       "      <td>11 12, 2015</td>\n",
       "      <td>B00PBJLGOE</td>\n",
       "      <td>Amazon Customer</td>\n",
       "      <td>This case was a pleasant surprise.  Well made ...</td>\n",
       "      <td>Love the pockets</td>\n",
       "      <td>1447286400</td>\n",
       "    </tr>\n",
       "  </tbody>\n",
       "</table>\n",
       "</div>"
      ],
      "text/plain": [
       "      Rating  Rev_verify  Review_Date          IC    Reviewer_Name  \\\n",
       "1135       5       False  02 18, 2016  B004F1F9P6  Amazon Customer   \n",
       "1136       5        True  07 24, 2016  B01CCUDUYS  Amazon Customer   \n",
       "1137       5        True  06 15, 2016  B013JNAUMW  Amazon Customer   \n",
       "1138       5        True  07 16, 2013  B009CEZGKE  Amazon Customer   \n",
       "1139       5        True  01 25, 2018  B01GJC4YMC  Amazon Customer   \n",
       "1141       4        True   01 8, 2015  B00OTIXH5O  Amazon Customer   \n",
       "1142       5        True  06 21, 2015  B00MAWQVZY  Amazon Customer   \n",
       "1143       3        True  04 25, 2015  B00N5T7MKO  Amazon Customer   \n",
       "1144       5        True  01 10, 2017  B01GIWFRHO  Amazon Customer   \n",
       "1145       5        True  11 12, 2015  B00PBJLGOE  Amazon Customer   \n",
       "\n",
       "                                                 Review  \\\n",
       "1135  I live where it's a maybe to make a call insid...   \n",
       "1136  Great set of cables!! works well!! just as pic...   \n",
       "1137                                    Very good items   \n",
       "1138  For normal use its a great phone. Using it for...   \n",
       "1139                                It works perfectly.   \n",
       "1141  Looks great, doesn't bother signal, & \"Samsung...   \n",
       "1142  I've used Spigen on my Note 3 since I got it 2...   \n",
       "1143            Smaller than what I expected, but okay.   \n",
       "1144  Bought this as a quick temporary case, but it'...   \n",
       "1145  This case was a pleasant surprise.  Well made ...   \n",
       "\n",
       "                                               Rev_summ  Review_timestamp  \n",
       "1135                                   Great Device !!!        1455753600  \n",
       "1136                               Great set of cables!        1469318400  \n",
       "1137                                         Four Stars        1465948800  \n",
       "1138                       AT&T Fusion 2 GoPhone (AT&T)        1373932800  \n",
       "1139                          Works well and is strong.        1516838400  \n",
       "1141                  Now this feels like a $700 phone!        1420675200  \n",
       "1142                                 Awesome protection        1434844800  \n",
       "1143                                        Three Stars        1429920000  \n",
       "1144  Thought this would be a temp case, but it's st...        1484006400  \n",
       "1145                                   Love the pockets        1447286400  "
      ]
     },
     "execution_count": 418,
     "metadata": {},
     "output_type": "execute_result"
    }
   ],
   "source": [
    "df[1135:1145] #df[1140] index is NOT present in the dataset now"
   ]
  },
  {
   "cell_type": "markdown",
   "metadata": {},
   "source": [
    "# Reset index"
   ]
  },
  {
   "cell_type": "code",
   "execution_count": 419,
   "metadata": {},
   "outputs": [],
   "source": [
    "df = df.reset_index(drop=True)"
   ]
  },
  {
   "cell_type": "code",
   "execution_count": 420,
   "metadata": {},
   "outputs": [
    {
     "data": {
      "text/html": [
       "<div>\n",
       "<style scoped>\n",
       "    .dataframe tbody tr th:only-of-type {\n",
       "        vertical-align: middle;\n",
       "    }\n",
       "\n",
       "    .dataframe tbody tr th {\n",
       "        vertical-align: top;\n",
       "    }\n",
       "\n",
       "    .dataframe thead th {\n",
       "        text-align: right;\n",
       "    }\n",
       "</style>\n",
       "<table border=\"1\" class=\"dataframe\">\n",
       "  <thead>\n",
       "    <tr style=\"text-align: right;\">\n",
       "      <th></th>\n",
       "      <th>Rating</th>\n",
       "      <th>Rev_verify</th>\n",
       "      <th>Review_Date</th>\n",
       "      <th>IC</th>\n",
       "      <th>Reviewer_Name</th>\n",
       "      <th>Review</th>\n",
       "      <th>Rev_summ</th>\n",
       "      <th>Review_timestamp</th>\n",
       "    </tr>\n",
       "  </thead>\n",
       "  <tbody>\n",
       "    <tr>\n",
       "      <th>1135</th>\n",
       "      <td>5</td>\n",
       "      <td>False</td>\n",
       "      <td>02 18, 2016</td>\n",
       "      <td>B004F1F9P6</td>\n",
       "      <td>Amazon Customer</td>\n",
       "      <td>I live where it's a maybe to make a call insid...</td>\n",
       "      <td>Great Device !!!</td>\n",
       "      <td>1455753600</td>\n",
       "    </tr>\n",
       "    <tr>\n",
       "      <th>1136</th>\n",
       "      <td>5</td>\n",
       "      <td>True</td>\n",
       "      <td>07 24, 2016</td>\n",
       "      <td>B01CCUDUYS</td>\n",
       "      <td>Amazon Customer</td>\n",
       "      <td>Great set of cables!! works well!! just as pic...</td>\n",
       "      <td>Great set of cables!</td>\n",
       "      <td>1469318400</td>\n",
       "    </tr>\n",
       "    <tr>\n",
       "      <th>1137</th>\n",
       "      <td>5</td>\n",
       "      <td>True</td>\n",
       "      <td>06 15, 2016</td>\n",
       "      <td>B013JNAUMW</td>\n",
       "      <td>Amazon Customer</td>\n",
       "      <td>Very good items</td>\n",
       "      <td>Four Stars</td>\n",
       "      <td>1465948800</td>\n",
       "    </tr>\n",
       "    <tr>\n",
       "      <th>1138</th>\n",
       "      <td>5</td>\n",
       "      <td>True</td>\n",
       "      <td>07 16, 2013</td>\n",
       "      <td>B009CEZGKE</td>\n",
       "      <td>Amazon Customer</td>\n",
       "      <td>For normal use its a great phone. Using it for...</td>\n",
       "      <td>AT&amp;T Fusion 2 GoPhone (AT&amp;T)</td>\n",
       "      <td>1373932800</td>\n",
       "    </tr>\n",
       "    <tr>\n",
       "      <th>1139</th>\n",
       "      <td>5</td>\n",
       "      <td>True</td>\n",
       "      <td>01 25, 2018</td>\n",
       "      <td>B01GJC4YMC</td>\n",
       "      <td>Amazon Customer</td>\n",
       "      <td>It works perfectly.</td>\n",
       "      <td>Works well and is strong.</td>\n",
       "      <td>1516838400</td>\n",
       "    </tr>\n",
       "    <tr>\n",
       "      <th>1140</th>\n",
       "      <td>4</td>\n",
       "      <td>True</td>\n",
       "      <td>01 8, 2015</td>\n",
       "      <td>B00OTIXH5O</td>\n",
       "      <td>Amazon Customer</td>\n",
       "      <td>Looks great, doesn't bother signal, &amp; \"Samsung...</td>\n",
       "      <td>Now this feels like a $700 phone!</td>\n",
       "      <td>1420675200</td>\n",
       "    </tr>\n",
       "    <tr>\n",
       "      <th>1141</th>\n",
       "      <td>5</td>\n",
       "      <td>True</td>\n",
       "      <td>06 21, 2015</td>\n",
       "      <td>B00MAWQVZY</td>\n",
       "      <td>Amazon Customer</td>\n",
       "      <td>I've used Spigen on my Note 3 since I got it 2...</td>\n",
       "      <td>Awesome protection</td>\n",
       "      <td>1434844800</td>\n",
       "    </tr>\n",
       "    <tr>\n",
       "      <th>1142</th>\n",
       "      <td>3</td>\n",
       "      <td>True</td>\n",
       "      <td>04 25, 2015</td>\n",
       "      <td>B00N5T7MKO</td>\n",
       "      <td>Amazon Customer</td>\n",
       "      <td>Smaller than what I expected, but okay.</td>\n",
       "      <td>Three Stars</td>\n",
       "      <td>1429920000</td>\n",
       "    </tr>\n",
       "    <tr>\n",
       "      <th>1143</th>\n",
       "      <td>5</td>\n",
       "      <td>True</td>\n",
       "      <td>01 10, 2017</td>\n",
       "      <td>B01GIWFRHO</td>\n",
       "      <td>Amazon Customer</td>\n",
       "      <td>Bought this as a quick temporary case, but it'...</td>\n",
       "      <td>Thought this would be a temp case, but it's st...</td>\n",
       "      <td>1484006400</td>\n",
       "    </tr>\n",
       "    <tr>\n",
       "      <th>1144</th>\n",
       "      <td>5</td>\n",
       "      <td>True</td>\n",
       "      <td>11 12, 2015</td>\n",
       "      <td>B00PBJLGOE</td>\n",
       "      <td>Amazon Customer</td>\n",
       "      <td>This case was a pleasant surprise.  Well made ...</td>\n",
       "      <td>Love the pockets</td>\n",
       "      <td>1447286400</td>\n",
       "    </tr>\n",
       "  </tbody>\n",
       "</table>\n",
       "</div>"
      ],
      "text/plain": [
       "      Rating  Rev_verify  Review_Date          IC    Reviewer_Name  \\\n",
       "1135       5       False  02 18, 2016  B004F1F9P6  Amazon Customer   \n",
       "1136       5        True  07 24, 2016  B01CCUDUYS  Amazon Customer   \n",
       "1137       5        True  06 15, 2016  B013JNAUMW  Amazon Customer   \n",
       "1138       5        True  07 16, 2013  B009CEZGKE  Amazon Customer   \n",
       "1139       5        True  01 25, 2018  B01GJC4YMC  Amazon Customer   \n",
       "1140       4        True   01 8, 2015  B00OTIXH5O  Amazon Customer   \n",
       "1141       5        True  06 21, 2015  B00MAWQVZY  Amazon Customer   \n",
       "1142       3        True  04 25, 2015  B00N5T7MKO  Amazon Customer   \n",
       "1143       5        True  01 10, 2017  B01GIWFRHO  Amazon Customer   \n",
       "1144       5        True  11 12, 2015  B00PBJLGOE  Amazon Customer   \n",
       "\n",
       "                                                 Review  \\\n",
       "1135  I live where it's a maybe to make a call insid...   \n",
       "1136  Great set of cables!! works well!! just as pic...   \n",
       "1137                                    Very good items   \n",
       "1138  For normal use its a great phone. Using it for...   \n",
       "1139                                It works perfectly.   \n",
       "1140  Looks great, doesn't bother signal, & \"Samsung...   \n",
       "1141  I've used Spigen on my Note 3 since I got it 2...   \n",
       "1142            Smaller than what I expected, but okay.   \n",
       "1143  Bought this as a quick temporary case, but it'...   \n",
       "1144  This case was a pleasant surprise.  Well made ...   \n",
       "\n",
       "                                               Rev_summ  Review_timestamp  \n",
       "1135                                   Great Device !!!        1455753600  \n",
       "1136                               Great set of cables!        1469318400  \n",
       "1137                                         Four Stars        1465948800  \n",
       "1138                       AT&T Fusion 2 GoPhone (AT&T)        1373932800  \n",
       "1139                          Works well and is strong.        1516838400  \n",
       "1140                  Now this feels like a $700 phone!        1420675200  \n",
       "1141                                 Awesome protection        1434844800  \n",
       "1142                                        Three Stars        1429920000  \n",
       "1143  Thought this would be a temp case, but it's st...        1484006400  \n",
       "1144                                   Love the pockets        1447286400  "
      ]
     },
     "execution_count": 420,
     "metadata": {},
     "output_type": "execute_result"
    }
   ],
   "source": [
    "df[1135:1145] #df[1140] index is PRESENT in the dataset now after resetting index with drop=True"
   ]
  },
  {
   "cell_type": "code",
   "execution_count": 421,
   "metadata": {},
   "outputs": [
    {
     "data": {
      "text/plain": [
       "(759602, 8)"
      ]
     },
     "execution_count": 421,
     "metadata": {},
     "output_type": "execute_result"
    }
   ],
   "source": [
    "df.shape"
   ]
  },
  {
   "cell_type": "code",
   "execution_count": 422,
   "metadata": {},
   "outputs": [
    {
     "data": {
      "text/plain": [
       "848"
      ]
     },
     "execution_count": 422,
     "metadata": {},
     "output_type": "execute_result"
    }
   ],
   "source": [
    "760450-759602 #no. of removed rows"
   ]
  },
  {
   "cell_type": "code",
   "execution_count": 423,
   "metadata": {},
   "outputs": [
    {
     "data": {
      "text/plain": [
       "Rating              0\n",
       "Rev_verify          0\n",
       "Review_Date         0\n",
       "IC                  0\n",
       "Reviewer_Name       0\n",
       "Review              0\n",
       "Rev_summ            0\n",
       "Review_timestamp    0\n",
       "dtype: int64"
      ]
     },
     "execution_count": 423,
     "metadata": {},
     "output_type": "execute_result"
    }
   ],
   "source": [
    "df.isnull().sum()"
   ]
  },
  {
   "cell_type": "code",
   "execution_count": 424,
   "metadata": {},
   "outputs": [
    {
     "data": {
      "text/html": [
       "<div>\n",
       "<style scoped>\n",
       "    .dataframe tbody tr th:only-of-type {\n",
       "        vertical-align: middle;\n",
       "    }\n",
       "\n",
       "    .dataframe tbody tr th {\n",
       "        vertical-align: top;\n",
       "    }\n",
       "\n",
       "    .dataframe thead th {\n",
       "        text-align: right;\n",
       "    }\n",
       "</style>\n",
       "<table border=\"1\" class=\"dataframe\">\n",
       "  <thead>\n",
       "    <tr style=\"text-align: right;\">\n",
       "      <th></th>\n",
       "      <th>Rating</th>\n",
       "      <th>Rev_verify</th>\n",
       "      <th>Review_Date</th>\n",
       "      <th>IC</th>\n",
       "      <th>Reviewer_Name</th>\n",
       "      <th>Review</th>\n",
       "      <th>Rev_summ</th>\n",
       "      <th>Review_timestamp</th>\n",
       "    </tr>\n",
       "  </thead>\n",
       "  <tbody>\n",
       "    <tr>\n",
       "      <th>0</th>\n",
       "      <td>5</td>\n",
       "      <td>True</td>\n",
       "      <td>09 1, 2015</td>\n",
       "      <td>B009XD5TPQ</td>\n",
       "      <td>Amazon Customer</td>\n",
       "      <td>Bought it for my husband. He's very happy with it</td>\n",
       "      <td>He's very happy with</td>\n",
       "      <td>1441065600</td>\n",
       "    </tr>\n",
       "    <tr>\n",
       "      <th>1</th>\n",
       "      <td>5</td>\n",
       "      <td>True</td>\n",
       "      <td>01 9, 2016</td>\n",
       "      <td>B016MF3P3K</td>\n",
       "      <td>Amazon Customer</td>\n",
       "      <td>Great screen protector.  Doesn't even seem as ...</td>\n",
       "      <td>Five Stars</td>\n",
       "      <td>1452297600</td>\n",
       "    </tr>\n",
       "    <tr>\n",
       "      <th>2</th>\n",
       "      <td>5</td>\n",
       "      <td>True</td>\n",
       "      <td>04 21, 2013</td>\n",
       "      <td>B008DC8N5G</td>\n",
       "      <td>Amazon Customer</td>\n",
       "      <td>Saved me lots of money! it's not gorilla glass...</td>\n",
       "      <td>As long as you know how to put it on!</td>\n",
       "      <td>1366502400</td>\n",
       "    </tr>\n",
       "    <tr>\n",
       "      <th>3</th>\n",
       "      <td>3</td>\n",
       "      <td>True</td>\n",
       "      <td>02 27, 2013</td>\n",
       "      <td>B0089CH3TM</td>\n",
       "      <td>Amazon Customer</td>\n",
       "      <td>The material and fit is very nice, but the col...</td>\n",
       "      <td>Good case overall</td>\n",
       "      <td>1361923200</td>\n",
       "    </tr>\n",
       "    <tr>\n",
       "      <th>4</th>\n",
       "      <td>4</td>\n",
       "      <td>True</td>\n",
       "      <td>12 19, 2013</td>\n",
       "      <td>B00AKZWGAC</td>\n",
       "      <td>Amazon Customer</td>\n",
       "      <td>This last me about 3 days till i have to charg...</td>\n",
       "      <td>Awesome Battery</td>\n",
       "      <td>1387411200</td>\n",
       "    </tr>\n",
       "  </tbody>\n",
       "</table>\n",
       "</div>"
      ],
      "text/plain": [
       "   Rating  Rev_verify  Review_Date          IC    Reviewer_Name  \\\n",
       "0       5        True   09 1, 2015  B009XD5TPQ  Amazon Customer   \n",
       "1       5        True   01 9, 2016  B016MF3P3K  Amazon Customer   \n",
       "2       5        True  04 21, 2013  B008DC8N5G  Amazon Customer   \n",
       "3       3        True  02 27, 2013  B0089CH3TM  Amazon Customer   \n",
       "4       4        True  12 19, 2013  B00AKZWGAC  Amazon Customer   \n",
       "\n",
       "                                              Review  \\\n",
       "0  Bought it for my husband. He's very happy with it   \n",
       "1  Great screen protector.  Doesn't even seem as ...   \n",
       "2  Saved me lots of money! it's not gorilla glass...   \n",
       "3  The material and fit is very nice, but the col...   \n",
       "4  This last me about 3 days till i have to charg...   \n",
       "\n",
       "                                Rev_summ  Review_timestamp  \n",
       "0                   He's very happy with        1441065600  \n",
       "1                             Five Stars        1452297600  \n",
       "2  As long as you know how to put it on!        1366502400  \n",
       "3                      Good case overall        1361923200  \n",
       "4                        Awesome Battery        1387411200  "
      ]
     },
     "execution_count": 424,
     "metadata": {},
     "output_type": "execute_result"
    }
   ],
   "source": [
    "df.head()"
   ]
  },
  {
   "cell_type": "markdown",
   "metadata": {},
   "source": [
    "# Now we will convert all the data to the integer form so that we can feed it into the ML algorithms"
   ]
  },
  {
   "cell_type": "code",
   "execution_count": 425,
   "metadata": {},
   "outputs": [
    {
     "data": {
      "text/plain": [
       "Rating               int64\n",
       "Rev_verify            bool\n",
       "Review_Date         object\n",
       "IC                  object\n",
       "Reviewer_Name       object\n",
       "Review              object\n",
       "Rev_summ            object\n",
       "Review_timestamp     int64\n",
       "dtype: object"
      ]
     },
     "execution_count": 425,
     "metadata": {},
     "output_type": "execute_result"
    }
   ],
   "source": [
    "df.dtypes"
   ]
  },
  {
   "cell_type": "markdown",
   "metadata": {},
   "source": [
    "# 'Rev_verify'"
   ]
  },
  {
   "cell_type": "code",
   "execution_count": 426,
   "metadata": {},
   "outputs": [
    {
     "data": {
      "text/plain": [
       "True     664660\n",
       "False     94942\n",
       "Name: Rev_verify, dtype: int64"
      ]
     },
     "execution_count": 426,
     "metadata": {},
     "output_type": "execute_result"
    }
   ],
   "source": [
    "df['Rev_verify'].value_counts()"
   ]
  },
  {
   "cell_type": "code",
   "execution_count": 427,
   "metadata": {},
   "outputs": [
    {
     "data": {
      "text/plain": [
       "Rating               int64\n",
       "Rev_verify            bool\n",
       "Review_Date         object\n",
       "IC                  object\n",
       "Reviewer_Name       object\n",
       "Review              object\n",
       "Rev_summ            object\n",
       "Review_timestamp     int64\n",
       "dtype: object"
      ]
     },
     "execution_count": 427,
     "metadata": {},
     "output_type": "execute_result"
    }
   ],
   "source": [
    "df.dtypes"
   ]
  },
  {
   "cell_type": "code",
   "execution_count": 428,
   "metadata": {},
   "outputs": [],
   "source": [
    "df['Rev_verify']=df['Rev_verify'].replace([True,False],[1,0])"
   ]
  },
  {
   "cell_type": "code",
   "execution_count": 429,
   "metadata": {},
   "outputs": [
    {
     "data": {
      "text/html": [
       "<div>\n",
       "<style scoped>\n",
       "    .dataframe tbody tr th:only-of-type {\n",
       "        vertical-align: middle;\n",
       "    }\n",
       "\n",
       "    .dataframe tbody tr th {\n",
       "        vertical-align: top;\n",
       "    }\n",
       "\n",
       "    .dataframe thead th {\n",
       "        text-align: right;\n",
       "    }\n",
       "</style>\n",
       "<table border=\"1\" class=\"dataframe\">\n",
       "  <thead>\n",
       "    <tr style=\"text-align: right;\">\n",
       "      <th></th>\n",
       "      <th>Rating</th>\n",
       "      <th>Rev_verify</th>\n",
       "      <th>Review_Date</th>\n",
       "      <th>IC</th>\n",
       "      <th>Reviewer_Name</th>\n",
       "      <th>Review</th>\n",
       "      <th>Rev_summ</th>\n",
       "      <th>Review_timestamp</th>\n",
       "    </tr>\n",
       "  </thead>\n",
       "  <tbody>\n",
       "    <tr>\n",
       "      <th>0</th>\n",
       "      <td>5</td>\n",
       "      <td>1</td>\n",
       "      <td>09 1, 2015</td>\n",
       "      <td>B009XD5TPQ</td>\n",
       "      <td>Amazon Customer</td>\n",
       "      <td>Bought it for my husband. He's very happy with it</td>\n",
       "      <td>He's very happy with</td>\n",
       "      <td>1441065600</td>\n",
       "    </tr>\n",
       "    <tr>\n",
       "      <th>1</th>\n",
       "      <td>5</td>\n",
       "      <td>1</td>\n",
       "      <td>01 9, 2016</td>\n",
       "      <td>B016MF3P3K</td>\n",
       "      <td>Amazon Customer</td>\n",
       "      <td>Great screen protector.  Doesn't even seem as ...</td>\n",
       "      <td>Five Stars</td>\n",
       "      <td>1452297600</td>\n",
       "    </tr>\n",
       "    <tr>\n",
       "      <th>2</th>\n",
       "      <td>5</td>\n",
       "      <td>1</td>\n",
       "      <td>04 21, 2013</td>\n",
       "      <td>B008DC8N5G</td>\n",
       "      <td>Amazon Customer</td>\n",
       "      <td>Saved me lots of money! it's not gorilla glass...</td>\n",
       "      <td>As long as you know how to put it on!</td>\n",
       "      <td>1366502400</td>\n",
       "    </tr>\n",
       "    <tr>\n",
       "      <th>3</th>\n",
       "      <td>3</td>\n",
       "      <td>1</td>\n",
       "      <td>02 27, 2013</td>\n",
       "      <td>B0089CH3TM</td>\n",
       "      <td>Amazon Customer</td>\n",
       "      <td>The material and fit is very nice, but the col...</td>\n",
       "      <td>Good case overall</td>\n",
       "      <td>1361923200</td>\n",
       "    </tr>\n",
       "    <tr>\n",
       "      <th>4</th>\n",
       "      <td>4</td>\n",
       "      <td>1</td>\n",
       "      <td>12 19, 2013</td>\n",
       "      <td>B00AKZWGAC</td>\n",
       "      <td>Amazon Customer</td>\n",
       "      <td>This last me about 3 days till i have to charg...</td>\n",
       "      <td>Awesome Battery</td>\n",
       "      <td>1387411200</td>\n",
       "    </tr>\n",
       "  </tbody>\n",
       "</table>\n",
       "</div>"
      ],
      "text/plain": [
       "   Rating  Rev_verify  Review_Date          IC    Reviewer_Name  \\\n",
       "0       5           1   09 1, 2015  B009XD5TPQ  Amazon Customer   \n",
       "1       5           1   01 9, 2016  B016MF3P3K  Amazon Customer   \n",
       "2       5           1  04 21, 2013  B008DC8N5G  Amazon Customer   \n",
       "3       3           1  02 27, 2013  B0089CH3TM  Amazon Customer   \n",
       "4       4           1  12 19, 2013  B00AKZWGAC  Amazon Customer   \n",
       "\n",
       "                                              Review  \\\n",
       "0  Bought it for my husband. He's very happy with it   \n",
       "1  Great screen protector.  Doesn't even seem as ...   \n",
       "2  Saved me lots of money! it's not gorilla glass...   \n",
       "3  The material and fit is very nice, but the col...   \n",
       "4  This last me about 3 days till i have to charg...   \n",
       "\n",
       "                                Rev_summ  Review_timestamp  \n",
       "0                   He's very happy with        1441065600  \n",
       "1                             Five Stars        1452297600  \n",
       "2  As long as you know how to put it on!        1366502400  \n",
       "3                      Good case overall        1361923200  \n",
       "4                        Awesome Battery        1387411200  "
      ]
     },
     "execution_count": 429,
     "metadata": {},
     "output_type": "execute_result"
    }
   ],
   "source": [
    "df.head()"
   ]
  },
  {
   "cell_type": "code",
   "execution_count": 430,
   "metadata": {},
   "outputs": [
    {
     "data": {
      "text/plain": [
       "0         1\n",
       "1         1\n",
       "2         1\n",
       "3         1\n",
       "4         1\n",
       "         ..\n",
       "759597    0\n",
       "759598    0\n",
       "759599    1\n",
       "759600    1\n",
       "759601    1\n",
       "Name: Rev_verify, Length: 759602, dtype: int64"
      ]
     },
     "execution_count": 430,
     "metadata": {},
     "output_type": "execute_result"
    }
   ],
   "source": [
    "df['Rev_verify']"
   ]
  },
  {
   "cell_type": "code",
   "execution_count": 431,
   "metadata": {},
   "outputs": [
    {
     "data": {
      "text/plain": [
       "1    664660\n",
       "0     94942\n",
       "Name: Rev_verify, dtype: int64"
      ]
     },
     "execution_count": 431,
     "metadata": {},
     "output_type": "execute_result"
    }
   ],
   "source": [
    "df['Rev_verify'].value_counts()"
   ]
  },
  {
   "cell_type": "code",
   "execution_count": 432,
   "metadata": {},
   "outputs": [
    {
     "data": {
      "text/plain": [
       "Rating               int64\n",
       "Rev_verify           int64\n",
       "Review_Date         object\n",
       "IC                  object\n",
       "Reviewer_Name       object\n",
       "Review              object\n",
       "Rev_summ            object\n",
       "Review_timestamp     int64\n",
       "dtype: object"
      ]
     },
     "execution_count": 432,
     "metadata": {},
     "output_type": "execute_result"
    }
   ],
   "source": [
    "df.dtypes"
   ]
  },
  {
   "cell_type": "markdown",
   "metadata": {},
   "source": [
    "# 'Review_Date'"
   ]
  },
  {
   "cell_type": "code",
   "execution_count": 433,
   "metadata": {},
   "outputs": [
    {
     "data": {
      "text/plain": [
       "0          09 1, 2015\n",
       "1          01 9, 2016\n",
       "2         04 21, 2013\n",
       "3         02 27, 2013\n",
       "4         12 19, 2013\n",
       "             ...     \n",
       "759597    07 12, 2014\n",
       "759598    07 13, 2016\n",
       "759599    07 23, 2015\n",
       "759600    12 14, 2015\n",
       "759601    02 24, 2016\n",
       "Name: Review_Date, Length: 759602, dtype: object"
      ]
     },
     "execution_count": 433,
     "metadata": {},
     "output_type": "execute_result"
    }
   ],
   "source": [
    "df['Review_Date']"
   ]
  },
  {
   "cell_type": "code",
   "execution_count": 434,
   "metadata": {},
   "outputs": [],
   "source": [
    "#Converting to date time format\n",
    "df['Review_Date']=pd.to_datetime(df['Review_Date'],format='%m %d, %Y')"
   ]
  },
  {
   "cell_type": "markdown",
   "metadata": {},
   "source": [
    "# Feature generation"
   ]
  },
  {
   "cell_type": "code",
   "execution_count": 435,
   "metadata": {},
   "outputs": [],
   "source": [
    "df['review_month']=df['Review_Date'].dt.month\n",
    "df['review_day']=df['Review_Date'].dt.day\n",
    "df['review_weekday']=df['Review_Date'].dt.dayofweek"
   ]
  },
  {
   "cell_type": "code",
   "execution_count": 436,
   "metadata": {},
   "outputs": [
    {
     "data": {
      "text/html": [
       "<div>\n",
       "<style scoped>\n",
       "    .dataframe tbody tr th:only-of-type {\n",
       "        vertical-align: middle;\n",
       "    }\n",
       "\n",
       "    .dataframe tbody tr th {\n",
       "        vertical-align: top;\n",
       "    }\n",
       "\n",
       "    .dataframe thead th {\n",
       "        text-align: right;\n",
       "    }\n",
       "</style>\n",
       "<table border=\"1\" class=\"dataframe\">\n",
       "  <thead>\n",
       "    <tr style=\"text-align: right;\">\n",
       "      <th></th>\n",
       "      <th>Rating</th>\n",
       "      <th>Rev_verify</th>\n",
       "      <th>Review_Date</th>\n",
       "      <th>IC</th>\n",
       "      <th>Reviewer_Name</th>\n",
       "      <th>Review</th>\n",
       "      <th>Rev_summ</th>\n",
       "      <th>Review_timestamp</th>\n",
       "      <th>review_month</th>\n",
       "      <th>review_day</th>\n",
       "      <th>review_weekday</th>\n",
       "    </tr>\n",
       "  </thead>\n",
       "  <tbody>\n",
       "    <tr>\n",
       "      <th>0</th>\n",
       "      <td>5</td>\n",
       "      <td>1</td>\n",
       "      <td>2015-09-01</td>\n",
       "      <td>B009XD5TPQ</td>\n",
       "      <td>Amazon Customer</td>\n",
       "      <td>Bought it for my husband. He's very happy with it</td>\n",
       "      <td>He's very happy with</td>\n",
       "      <td>1441065600</td>\n",
       "      <td>9</td>\n",
       "      <td>1</td>\n",
       "      <td>1</td>\n",
       "    </tr>\n",
       "    <tr>\n",
       "      <th>1</th>\n",
       "      <td>5</td>\n",
       "      <td>1</td>\n",
       "      <td>2016-01-09</td>\n",
       "      <td>B016MF3P3K</td>\n",
       "      <td>Amazon Customer</td>\n",
       "      <td>Great screen protector.  Doesn't even seem as ...</td>\n",
       "      <td>Five Stars</td>\n",
       "      <td>1452297600</td>\n",
       "      <td>1</td>\n",
       "      <td>9</td>\n",
       "      <td>5</td>\n",
       "    </tr>\n",
       "    <tr>\n",
       "      <th>2</th>\n",
       "      <td>5</td>\n",
       "      <td>1</td>\n",
       "      <td>2013-04-21</td>\n",
       "      <td>B008DC8N5G</td>\n",
       "      <td>Amazon Customer</td>\n",
       "      <td>Saved me lots of money! it's not gorilla glass...</td>\n",
       "      <td>As long as you know how to put it on!</td>\n",
       "      <td>1366502400</td>\n",
       "      <td>4</td>\n",
       "      <td>21</td>\n",
       "      <td>6</td>\n",
       "    </tr>\n",
       "    <tr>\n",
       "      <th>3</th>\n",
       "      <td>3</td>\n",
       "      <td>1</td>\n",
       "      <td>2013-02-27</td>\n",
       "      <td>B0089CH3TM</td>\n",
       "      <td>Amazon Customer</td>\n",
       "      <td>The material and fit is very nice, but the col...</td>\n",
       "      <td>Good case overall</td>\n",
       "      <td>1361923200</td>\n",
       "      <td>2</td>\n",
       "      <td>27</td>\n",
       "      <td>2</td>\n",
       "    </tr>\n",
       "    <tr>\n",
       "      <th>4</th>\n",
       "      <td>4</td>\n",
       "      <td>1</td>\n",
       "      <td>2013-12-19</td>\n",
       "      <td>B00AKZWGAC</td>\n",
       "      <td>Amazon Customer</td>\n",
       "      <td>This last me about 3 days till i have to charg...</td>\n",
       "      <td>Awesome Battery</td>\n",
       "      <td>1387411200</td>\n",
       "      <td>12</td>\n",
       "      <td>19</td>\n",
       "      <td>3</td>\n",
       "    </tr>\n",
       "  </tbody>\n",
       "</table>\n",
       "</div>"
      ],
      "text/plain": [
       "   Rating  Rev_verify Review_Date          IC    Reviewer_Name  \\\n",
       "0       5           1  2015-09-01  B009XD5TPQ  Amazon Customer   \n",
       "1       5           1  2016-01-09  B016MF3P3K  Amazon Customer   \n",
       "2       5           1  2013-04-21  B008DC8N5G  Amazon Customer   \n",
       "3       3           1  2013-02-27  B0089CH3TM  Amazon Customer   \n",
       "4       4           1  2013-12-19  B00AKZWGAC  Amazon Customer   \n",
       "\n",
       "                                              Review  \\\n",
       "0  Bought it for my husband. He's very happy with it   \n",
       "1  Great screen protector.  Doesn't even seem as ...   \n",
       "2  Saved me lots of money! it's not gorilla glass...   \n",
       "3  The material and fit is very nice, but the col...   \n",
       "4  This last me about 3 days till i have to charg...   \n",
       "\n",
       "                                Rev_summ  Review_timestamp  review_month  \\\n",
       "0                   He's very happy with        1441065600             9   \n",
       "1                             Five Stars        1452297600             1   \n",
       "2  As long as you know how to put it on!        1366502400             4   \n",
       "3                      Good case overall        1361923200             2   \n",
       "4                        Awesome Battery        1387411200            12   \n",
       "\n",
       "   review_day  review_weekday  \n",
       "0           1               1  \n",
       "1           9               5  \n",
       "2          21               6  \n",
       "3          27               2  \n",
       "4          19               3  "
      ]
     },
     "execution_count": 436,
     "metadata": {},
     "output_type": "execute_result"
    }
   ],
   "source": [
    "df.head()"
   ]
  },
  {
   "cell_type": "markdown",
   "metadata": {},
   "source": [
    "# Dropping the feature 'Review_Date' as we have extrated the data we need"
   ]
  },
  {
   "cell_type": "code",
   "execution_count": 437,
   "metadata": {},
   "outputs": [],
   "source": [
    "df=df.drop('Review_Date',axis=1)"
   ]
  },
  {
   "cell_type": "code",
   "execution_count": 438,
   "metadata": {},
   "outputs": [
    {
     "data": {
      "text/html": [
       "<div>\n",
       "<style scoped>\n",
       "    .dataframe tbody tr th:only-of-type {\n",
       "        vertical-align: middle;\n",
       "    }\n",
       "\n",
       "    .dataframe tbody tr th {\n",
       "        vertical-align: top;\n",
       "    }\n",
       "\n",
       "    .dataframe thead th {\n",
       "        text-align: right;\n",
       "    }\n",
       "</style>\n",
       "<table border=\"1\" class=\"dataframe\">\n",
       "  <thead>\n",
       "    <tr style=\"text-align: right;\">\n",
       "      <th></th>\n",
       "      <th>Rating</th>\n",
       "      <th>Rev_verify</th>\n",
       "      <th>IC</th>\n",
       "      <th>Reviewer_Name</th>\n",
       "      <th>Review</th>\n",
       "      <th>Rev_summ</th>\n",
       "      <th>Review_timestamp</th>\n",
       "      <th>review_month</th>\n",
       "      <th>review_day</th>\n",
       "      <th>review_weekday</th>\n",
       "    </tr>\n",
       "  </thead>\n",
       "  <tbody>\n",
       "    <tr>\n",
       "      <th>0</th>\n",
       "      <td>5</td>\n",
       "      <td>1</td>\n",
       "      <td>B009XD5TPQ</td>\n",
       "      <td>Amazon Customer</td>\n",
       "      <td>Bought it for my husband. He's very happy with it</td>\n",
       "      <td>He's very happy with</td>\n",
       "      <td>1441065600</td>\n",
       "      <td>9</td>\n",
       "      <td>1</td>\n",
       "      <td>1</td>\n",
       "    </tr>\n",
       "    <tr>\n",
       "      <th>1</th>\n",
       "      <td>5</td>\n",
       "      <td>1</td>\n",
       "      <td>B016MF3P3K</td>\n",
       "      <td>Amazon Customer</td>\n",
       "      <td>Great screen protector.  Doesn't even seem as ...</td>\n",
       "      <td>Five Stars</td>\n",
       "      <td>1452297600</td>\n",
       "      <td>1</td>\n",
       "      <td>9</td>\n",
       "      <td>5</td>\n",
       "    </tr>\n",
       "    <tr>\n",
       "      <th>2</th>\n",
       "      <td>5</td>\n",
       "      <td>1</td>\n",
       "      <td>B008DC8N5G</td>\n",
       "      <td>Amazon Customer</td>\n",
       "      <td>Saved me lots of money! it's not gorilla glass...</td>\n",
       "      <td>As long as you know how to put it on!</td>\n",
       "      <td>1366502400</td>\n",
       "      <td>4</td>\n",
       "      <td>21</td>\n",
       "      <td>6</td>\n",
       "    </tr>\n",
       "    <tr>\n",
       "      <th>3</th>\n",
       "      <td>3</td>\n",
       "      <td>1</td>\n",
       "      <td>B0089CH3TM</td>\n",
       "      <td>Amazon Customer</td>\n",
       "      <td>The material and fit is very nice, but the col...</td>\n",
       "      <td>Good case overall</td>\n",
       "      <td>1361923200</td>\n",
       "      <td>2</td>\n",
       "      <td>27</td>\n",
       "      <td>2</td>\n",
       "    </tr>\n",
       "    <tr>\n",
       "      <th>4</th>\n",
       "      <td>4</td>\n",
       "      <td>1</td>\n",
       "      <td>B00AKZWGAC</td>\n",
       "      <td>Amazon Customer</td>\n",
       "      <td>This last me about 3 days till i have to charg...</td>\n",
       "      <td>Awesome Battery</td>\n",
       "      <td>1387411200</td>\n",
       "      <td>12</td>\n",
       "      <td>19</td>\n",
       "      <td>3</td>\n",
       "    </tr>\n",
       "  </tbody>\n",
       "</table>\n",
       "</div>"
      ],
      "text/plain": [
       "   Rating  Rev_verify          IC    Reviewer_Name  \\\n",
       "0       5           1  B009XD5TPQ  Amazon Customer   \n",
       "1       5           1  B016MF3P3K  Amazon Customer   \n",
       "2       5           1  B008DC8N5G  Amazon Customer   \n",
       "3       3           1  B0089CH3TM  Amazon Customer   \n",
       "4       4           1  B00AKZWGAC  Amazon Customer   \n",
       "\n",
       "                                              Review  \\\n",
       "0  Bought it for my husband. He's very happy with it   \n",
       "1  Great screen protector.  Doesn't even seem as ...   \n",
       "2  Saved me lots of money! it's not gorilla glass...   \n",
       "3  The material and fit is very nice, but the col...   \n",
       "4  This last me about 3 days till i have to charg...   \n",
       "\n",
       "                                Rev_summ  Review_timestamp  review_month  \\\n",
       "0                   He's very happy with        1441065600             9   \n",
       "1                             Five Stars        1452297600             1   \n",
       "2  As long as you know how to put it on!        1366502400             4   \n",
       "3                      Good case overall        1361923200             2   \n",
       "4                        Awesome Battery        1387411200            12   \n",
       "\n",
       "   review_day  review_weekday  \n",
       "0           1               1  \n",
       "1           9               5  \n",
       "2          21               6  \n",
       "3          27               2  \n",
       "4          19               3  "
      ]
     },
     "execution_count": 438,
     "metadata": {},
     "output_type": "execute_result"
    }
   ],
   "source": [
    "df.head()"
   ]
  },
  {
   "cell_type": "code",
   "execution_count": 439,
   "metadata": {},
   "outputs": [
    {
     "data": {
      "text/plain": [
       "Rating               int64\n",
       "Rev_verify           int64\n",
       "IC                  object\n",
       "Reviewer_Name       object\n",
       "Review              object\n",
       "Rev_summ            object\n",
       "Review_timestamp     int64\n",
       "review_month         int64\n",
       "review_day           int64\n",
       "review_weekday       int64\n",
       "dtype: object"
      ]
     },
     "execution_count": 439,
     "metadata": {},
     "output_type": "execute_result"
    }
   ],
   "source": [
    "df.dtypes"
   ]
  },
  {
   "cell_type": "markdown",
   "metadata": {},
   "source": [
    "# 'IC' & 'Reviewer_Name'"
   ]
  },
  {
   "cell_type": "code",
   "execution_count": 440,
   "metadata": {},
   "outputs": [
    {
     "data": {
      "text/plain": [
       "48133"
      ]
     },
     "execution_count": 440,
     "metadata": {},
     "output_type": "execute_result"
    }
   ],
   "source": [
    "df['IC'].nunique() #many duplicate IC are there ,BUt removing them will result in data loss.\n",
    "#But in problem statement its mentioned to not have ant duplicates.\n",
    "#What is the solution to this??"
   ]
  },
  {
   "cell_type": "markdown",
   "metadata": {},
   "source": [
    "# LabelEncoding"
   ]
  },
  {
   "cell_type": "code",
   "execution_count": 441,
   "metadata": {},
   "outputs": [],
   "source": [
    "from sklearn.preprocessing import LabelEncoder\n",
    "le=LabelEncoder()\n"
   ]
  },
  {
   "cell_type": "code",
   "execution_count": 442,
   "metadata": {},
   "outputs": [],
   "source": [
    "df['IC']=le.fit_transform(df['IC']) #Duplicates are still present.label encoding for model building purpose.\n",
    "df['Reviewer_Name']=le.fit_transform(df['Reviewer_Name'])"
   ]
  },
  {
   "cell_type": "code",
   "execution_count": 443,
   "metadata": {},
   "outputs": [
    {
     "data": {
      "text/html": [
       "<div>\n",
       "<style scoped>\n",
       "    .dataframe tbody tr th:only-of-type {\n",
       "        vertical-align: middle;\n",
       "    }\n",
       "\n",
       "    .dataframe tbody tr th {\n",
       "        vertical-align: top;\n",
       "    }\n",
       "\n",
       "    .dataframe thead th {\n",
       "        text-align: right;\n",
       "    }\n",
       "</style>\n",
       "<table border=\"1\" class=\"dataframe\">\n",
       "  <thead>\n",
       "    <tr style=\"text-align: right;\">\n",
       "      <th></th>\n",
       "      <th>Rating</th>\n",
       "      <th>Rev_verify</th>\n",
       "      <th>IC</th>\n",
       "      <th>Reviewer_Name</th>\n",
       "      <th>Review</th>\n",
       "      <th>Rev_summ</th>\n",
       "      <th>Review_timestamp</th>\n",
       "      <th>review_month</th>\n",
       "      <th>review_day</th>\n",
       "      <th>review_weekday</th>\n",
       "    </tr>\n",
       "  </thead>\n",
       "  <tbody>\n",
       "    <tr>\n",
       "      <th>0</th>\n",
       "      <td>5</td>\n",
       "      <td>1</td>\n",
       "      <td>8476</td>\n",
       "      <td>0</td>\n",
       "      <td>Bought it for my husband. He's very happy with it</td>\n",
       "      <td>He's very happy with</td>\n",
       "      <td>1441065600</td>\n",
       "      <td>9</td>\n",
       "      <td>1</td>\n",
       "      <td>1</td>\n",
       "    </tr>\n",
       "    <tr>\n",
       "      <th>1</th>\n",
       "      <td>5</td>\n",
       "      <td>1</td>\n",
       "      <td>39101</td>\n",
       "      <td>0</td>\n",
       "      <td>Great screen protector.  Doesn't even seem as ...</td>\n",
       "      <td>Five Stars</td>\n",
       "      <td>1452297600</td>\n",
       "      <td>1</td>\n",
       "      <td>9</td>\n",
       "      <td>5</td>\n",
       "    </tr>\n",
       "    <tr>\n",
       "      <th>2</th>\n",
       "      <td>5</td>\n",
       "      <td>1</td>\n",
       "      <td>6742</td>\n",
       "      <td>0</td>\n",
       "      <td>Saved me lots of money! it's not gorilla glass...</td>\n",
       "      <td>As long as you know how to put it on!</td>\n",
       "      <td>1366502400</td>\n",
       "      <td>4</td>\n",
       "      <td>21</td>\n",
       "      <td>6</td>\n",
       "    </tr>\n",
       "    <tr>\n",
       "      <th>3</th>\n",
       "      <td>3</td>\n",
       "      <td>1</td>\n",
       "      <td>6673</td>\n",
       "      <td>0</td>\n",
       "      <td>The material and fit is very nice, but the col...</td>\n",
       "      <td>Good case overall</td>\n",
       "      <td>1361923200</td>\n",
       "      <td>2</td>\n",
       "      <td>27</td>\n",
       "      <td>2</td>\n",
       "    </tr>\n",
       "    <tr>\n",
       "      <th>4</th>\n",
       "      <td>4</td>\n",
       "      <td>1</td>\n",
       "      <td>9254</td>\n",
       "      <td>0</td>\n",
       "      <td>This last me about 3 days till i have to charg...</td>\n",
       "      <td>Awesome Battery</td>\n",
       "      <td>1387411200</td>\n",
       "      <td>12</td>\n",
       "      <td>19</td>\n",
       "      <td>3</td>\n",
       "    </tr>\n",
       "  </tbody>\n",
       "</table>\n",
       "</div>"
      ],
      "text/plain": [
       "   Rating  Rev_verify     IC  Reviewer_Name  \\\n",
       "0       5           1   8476              0   \n",
       "1       5           1  39101              0   \n",
       "2       5           1   6742              0   \n",
       "3       3           1   6673              0   \n",
       "4       4           1   9254              0   \n",
       "\n",
       "                                              Review  \\\n",
       "0  Bought it for my husband. He's very happy with it   \n",
       "1  Great screen protector.  Doesn't even seem as ...   \n",
       "2  Saved me lots of money! it's not gorilla glass...   \n",
       "3  The material and fit is very nice, but the col...   \n",
       "4  This last me about 3 days till i have to charg...   \n",
       "\n",
       "                                Rev_summ  Review_timestamp  review_month  \\\n",
       "0                   He's very happy with        1441065600             9   \n",
       "1                             Five Stars        1452297600             1   \n",
       "2  As long as you know how to put it on!        1366502400             4   \n",
       "3                      Good case overall        1361923200             2   \n",
       "4                        Awesome Battery        1387411200            12   \n",
       "\n",
       "   review_day  review_weekday  \n",
       "0           1               1  \n",
       "1           9               5  \n",
       "2          21               6  \n",
       "3          27               2  \n",
       "4          19               3  "
      ]
     },
     "execution_count": 443,
     "metadata": {},
     "output_type": "execute_result"
    }
   ],
   "source": [
    "df.head()"
   ]
  },
  {
   "cell_type": "code",
   "execution_count": 444,
   "metadata": {},
   "outputs": [
    {
     "data": {
      "text/plain": [
       "Rating               int64\n",
       "Rev_verify           int64\n",
       "IC                   int32\n",
       "Reviewer_Name        int32\n",
       "Review              object\n",
       "Rev_summ            object\n",
       "Review_timestamp     int64\n",
       "review_month         int64\n",
       "review_day           int64\n",
       "review_weekday       int64\n",
       "dtype: object"
      ]
     },
     "execution_count": 444,
     "metadata": {},
     "output_type": "execute_result"
    }
   ],
   "source": [
    "df.dtypes"
   ]
  },
  {
   "cell_type": "markdown",
   "metadata": {},
   "source": [
    "# 'Review_timestamp'--time when the review has been posted (unix time format)"
   ]
  },
  {
   "cell_type": "code",
   "execution_count": 445,
   "metadata": {},
   "outputs": [],
   "source": [
    "from datetime import datetime, timedelta"
   ]
  },
  {
   "cell_type": "code",
   "execution_count": 446,
   "metadata": {},
   "outputs": [
    {
     "data": {
      "text/html": [
       "<div>\n",
       "<style scoped>\n",
       "    .dataframe tbody tr th:only-of-type {\n",
       "        vertical-align: middle;\n",
       "    }\n",
       "\n",
       "    .dataframe tbody tr th {\n",
       "        vertical-align: top;\n",
       "    }\n",
       "\n",
       "    .dataframe thead th {\n",
       "        text-align: right;\n",
       "    }\n",
       "</style>\n",
       "<table border=\"1\" class=\"dataframe\">\n",
       "  <thead>\n",
       "    <tr style=\"text-align: right;\">\n",
       "      <th></th>\n",
       "      <th>Rating</th>\n",
       "      <th>Rev_verify</th>\n",
       "      <th>IC</th>\n",
       "      <th>Reviewer_Name</th>\n",
       "      <th>Review</th>\n",
       "      <th>Rev_summ</th>\n",
       "      <th>Review_timestamp</th>\n",
       "      <th>review_month</th>\n",
       "      <th>review_day</th>\n",
       "      <th>review_weekday</th>\n",
       "    </tr>\n",
       "  </thead>\n",
       "  <tbody>\n",
       "    <tr>\n",
       "      <th>0</th>\n",
       "      <td>5</td>\n",
       "      <td>1</td>\n",
       "      <td>8476</td>\n",
       "      <td>0</td>\n",
       "      <td>Bought it for my husband. He's very happy with it</td>\n",
       "      <td>He's very happy with</td>\n",
       "      <td>1969-12-31 14:00:00</td>\n",
       "      <td>9</td>\n",
       "      <td>1</td>\n",
       "      <td>1</td>\n",
       "    </tr>\n",
       "    <tr>\n",
       "      <th>1</th>\n",
       "      <td>5</td>\n",
       "      <td>1</td>\n",
       "      <td>39101</td>\n",
       "      <td>0</td>\n",
       "      <td>Great screen protector.  Doesn't even seem as ...</td>\n",
       "      <td>Five Stars</td>\n",
       "      <td>1969-12-31 14:00:01</td>\n",
       "      <td>1</td>\n",
       "      <td>9</td>\n",
       "      <td>5</td>\n",
       "    </tr>\n",
       "    <tr>\n",
       "      <th>2</th>\n",
       "      <td>5</td>\n",
       "      <td>1</td>\n",
       "      <td>6742</td>\n",
       "      <td>0</td>\n",
       "      <td>Saved me lots of money! it's not gorilla glass...</td>\n",
       "      <td>As long as you know how to put it on!</td>\n",
       "      <td>1969-12-31 14:00:02</td>\n",
       "      <td>4</td>\n",
       "      <td>21</td>\n",
       "      <td>6</td>\n",
       "    </tr>\n",
       "  </tbody>\n",
       "</table>\n",
       "</div>"
      ],
      "text/plain": [
       "   Rating  Rev_verify     IC  Reviewer_Name  \\\n",
       "0       5           1   8476              0   \n",
       "1       5           1  39101              0   \n",
       "2       5           1   6742              0   \n",
       "\n",
       "                                              Review  \\\n",
       "0  Bought it for my husband. He's very happy with it   \n",
       "1  Great screen protector.  Doesn't even seem as ...   \n",
       "2  Saved me lots of money! it's not gorilla glass...   \n",
       "\n",
       "                                Rev_summ     Review_timestamp  review_month  \\\n",
       "0                   He's very happy with  1969-12-31 14:00:00             9   \n",
       "1                             Five Stars  1969-12-31 14:00:01             1   \n",
       "2  As long as you know how to put it on!  1969-12-31 14:00:02             4   \n",
       "\n",
       "   review_day  review_weekday  \n",
       "0           1               1  \n",
       "1           9               5  \n",
       "2          21               6  "
      ]
     },
     "execution_count": 446,
     "metadata": {},
     "output_type": "execute_result"
    }
   ],
   "source": [
    "Review_timestamp = []\n",
    "for w in range(len(df.Review_timestamp)):\n",
    "    \n",
    "    unix_ts = w                               #+2 hours\n",
    "    dt = (datetime.fromtimestamp(w) - timedelta(hours=2)).strftime('%Y-%m-%d %H:%M:%S')\n",
    "    Review_timestamp.append(dt)\n",
    "#assign the cleaned descriptions to the data frame\n",
    "df['Review_timestamp'] = Review_timestamp\n",
    "        \n",
    "df.head(3)\n"
   ]
  },
  {
   "cell_type": "code",
   "execution_count": 447,
   "metadata": {},
   "outputs": [
    {
     "data": {
      "text/plain": [
       "Rating               int64\n",
       "Rev_verify           int64\n",
       "IC                   int32\n",
       "Reviewer_Name        int32\n",
       "Review              object\n",
       "Rev_summ            object\n",
       "Review_timestamp    object\n",
       "review_month         int64\n",
       "review_day           int64\n",
       "review_weekday       int64\n",
       "dtype: object"
      ]
     },
     "execution_count": 447,
     "metadata": {},
     "output_type": "execute_result"
    }
   ],
   "source": [
    "df.dtypes"
   ]
  },
  {
   "cell_type": "markdown",
   "metadata": {},
   "source": [
    "# feature extraction"
   ]
  },
  {
   "cell_type": "code",
   "execution_count": 448,
   "metadata": {},
   "outputs": [],
   "source": [
    "df['Review_timestamp']=pd.to_datetime(df['Review_timestamp'],format='%Y-%m-%d %H:%M:%S')"
   ]
  },
  {
   "cell_type": "code",
   "execution_count": 449,
   "metadata": {},
   "outputs": [
    {
     "data": {
      "text/plain": [
       "Rating                       int64\n",
       "Rev_verify                   int64\n",
       "IC                           int32\n",
       "Reviewer_Name                int32\n",
       "Review                      object\n",
       "Rev_summ                    object\n",
       "Review_timestamp    datetime64[ns]\n",
       "review_month                 int64\n",
       "review_day                   int64\n",
       "review_weekday               int64\n",
       "dtype: object"
      ]
     },
     "execution_count": 449,
     "metadata": {},
     "output_type": "execute_result"
    }
   ],
   "source": [
    "df.dtypes"
   ]
  },
  {
   "cell_type": "code",
   "execution_count": 450,
   "metadata": {},
   "outputs": [],
   "source": [
    "df['Review_timestamp_year']=df['Review_timestamp'].dt.year\n",
    "df['Review_timestamp_month']=df['Review_timestamp'].dt.month\n",
    "df['Review_timestamp_day']=df['Review_timestamp'].dt.day\n",
    "df['Review_timestamp_hour']=df['Review_timestamp'].dt.hour\n",
    "df['Review_timestamp_minutes']=df['Review_timestamp'].dt.minute\n",
    "df['Review_timestamp_seconds']=df['Review_timestamp'].dt.second"
   ]
  },
  {
   "cell_type": "markdown",
   "metadata": {},
   "source": [
    "# Dropping the feature 'Review_timestamp' as we have extrated the data we need"
   ]
  },
  {
   "cell_type": "code",
   "execution_count": 451,
   "metadata": {},
   "outputs": [],
   "source": [
    "df=df.drop('Review_timestamp',axis=1)"
   ]
  },
  {
   "cell_type": "code",
   "execution_count": 452,
   "metadata": {},
   "outputs": [
    {
     "data": {
      "text/html": [
       "<div>\n",
       "<style scoped>\n",
       "    .dataframe tbody tr th:only-of-type {\n",
       "        vertical-align: middle;\n",
       "    }\n",
       "\n",
       "    .dataframe tbody tr th {\n",
       "        vertical-align: top;\n",
       "    }\n",
       "\n",
       "    .dataframe thead th {\n",
       "        text-align: right;\n",
       "    }\n",
       "</style>\n",
       "<table border=\"1\" class=\"dataframe\">\n",
       "  <thead>\n",
       "    <tr style=\"text-align: right;\">\n",
       "      <th></th>\n",
       "      <th>Rating</th>\n",
       "      <th>Rev_verify</th>\n",
       "      <th>IC</th>\n",
       "      <th>Reviewer_Name</th>\n",
       "      <th>Review</th>\n",
       "      <th>Rev_summ</th>\n",
       "      <th>review_month</th>\n",
       "      <th>review_day</th>\n",
       "      <th>review_weekday</th>\n",
       "      <th>Review_timestamp_year</th>\n",
       "      <th>Review_timestamp_month</th>\n",
       "      <th>Review_timestamp_day</th>\n",
       "      <th>Review_timestamp_hour</th>\n",
       "      <th>Review_timestamp_minutes</th>\n",
       "      <th>Review_timestamp_seconds</th>\n",
       "    </tr>\n",
       "  </thead>\n",
       "  <tbody>\n",
       "    <tr>\n",
       "      <th>0</th>\n",
       "      <td>5</td>\n",
       "      <td>1</td>\n",
       "      <td>8476</td>\n",
       "      <td>0</td>\n",
       "      <td>Bought it for my husband. He's very happy with it</td>\n",
       "      <td>He's very happy with</td>\n",
       "      <td>9</td>\n",
       "      <td>1</td>\n",
       "      <td>1</td>\n",
       "      <td>1969</td>\n",
       "      <td>12</td>\n",
       "      <td>31</td>\n",
       "      <td>14</td>\n",
       "      <td>0</td>\n",
       "      <td>0</td>\n",
       "    </tr>\n",
       "    <tr>\n",
       "      <th>1</th>\n",
       "      <td>5</td>\n",
       "      <td>1</td>\n",
       "      <td>39101</td>\n",
       "      <td>0</td>\n",
       "      <td>Great screen protector.  Doesn't even seem as ...</td>\n",
       "      <td>Five Stars</td>\n",
       "      <td>1</td>\n",
       "      <td>9</td>\n",
       "      <td>5</td>\n",
       "      <td>1969</td>\n",
       "      <td>12</td>\n",
       "      <td>31</td>\n",
       "      <td>14</td>\n",
       "      <td>0</td>\n",
       "      <td>1</td>\n",
       "    </tr>\n",
       "    <tr>\n",
       "      <th>2</th>\n",
       "      <td>5</td>\n",
       "      <td>1</td>\n",
       "      <td>6742</td>\n",
       "      <td>0</td>\n",
       "      <td>Saved me lots of money! it's not gorilla glass...</td>\n",
       "      <td>As long as you know how to put it on!</td>\n",
       "      <td>4</td>\n",
       "      <td>21</td>\n",
       "      <td>6</td>\n",
       "      <td>1969</td>\n",
       "      <td>12</td>\n",
       "      <td>31</td>\n",
       "      <td>14</td>\n",
       "      <td>0</td>\n",
       "      <td>2</td>\n",
       "    </tr>\n",
       "  </tbody>\n",
       "</table>\n",
       "</div>"
      ],
      "text/plain": [
       "   Rating  Rev_verify     IC  Reviewer_Name  \\\n",
       "0       5           1   8476              0   \n",
       "1       5           1  39101              0   \n",
       "2       5           1   6742              0   \n",
       "\n",
       "                                              Review  \\\n",
       "0  Bought it for my husband. He's very happy with it   \n",
       "1  Great screen protector.  Doesn't even seem as ...   \n",
       "2  Saved me lots of money! it's not gorilla glass...   \n",
       "\n",
       "                                Rev_summ  review_month  review_day  \\\n",
       "0                   He's very happy with             9           1   \n",
       "1                             Five Stars             1           9   \n",
       "2  As long as you know how to put it on!             4          21   \n",
       "\n",
       "   review_weekday  Review_timestamp_year  Review_timestamp_month  \\\n",
       "0               1                   1969                      12   \n",
       "1               5                   1969                      12   \n",
       "2               6                   1969                      12   \n",
       "\n",
       "   Review_timestamp_day  Review_timestamp_hour  Review_timestamp_minutes  \\\n",
       "0                    31                     14                         0   \n",
       "1                    31                     14                         0   \n",
       "2                    31                     14                         0   \n",
       "\n",
       "   Review_timestamp_seconds  \n",
       "0                         0  \n",
       "1                         1  \n",
       "2                         2  "
      ]
     },
     "execution_count": 452,
     "metadata": {},
     "output_type": "execute_result"
    }
   ],
   "source": [
    "df.head(3)"
   ]
  },
  {
   "cell_type": "code",
   "execution_count": 454,
   "metadata": {},
   "outputs": [
    {
     "data": {
      "text/plain": [
       "(759602, 15)"
      ]
     },
     "execution_count": 454,
     "metadata": {},
     "output_type": "execute_result"
    }
   ],
   "source": [
    "df.shape"
   ]
  },
  {
   "cell_type": "code",
   "execution_count": 455,
   "metadata": {},
   "outputs": [
    {
     "data": {
      "text/plain": [
       "Rating                       int64\n",
       "Rev_verify                   int64\n",
       "IC                           int32\n",
       "Reviewer_Name                int32\n",
       "Review                      object\n",
       "Rev_summ                    object\n",
       "review_month                 int64\n",
       "review_day                   int64\n",
       "review_weekday               int64\n",
       "Review_timestamp_year        int64\n",
       "Review_timestamp_month       int64\n",
       "Review_timestamp_day         int64\n",
       "Review_timestamp_hour        int64\n",
       "Review_timestamp_minutes     int64\n",
       "Review_timestamp_seconds     int64\n",
       "dtype: object"
      ]
     },
     "execution_count": 455,
     "metadata": {},
     "output_type": "execute_result"
    }
   ],
   "source": [
    "df.dtypes"
   ]
  },
  {
   "cell_type": "markdown",
   "metadata": {},
   "source": [
    "# 'Review'"
   ]
  },
  {
   "cell_type": "code",
   "execution_count": 456,
   "metadata": {},
   "outputs": [
    {
     "data": {
      "text/plain": [
       "0    Bought it for my husband. He's very happy with it\n",
       "1    Great screen protector.  Doesn't even seem as ...\n",
       "2    Saved me lots of money! it's not gorilla glass...\n",
       "3    The material and fit is very nice, but the col...\n",
       "4    This last me about 3 days till i have to charg...\n",
       "Name: Review, dtype: object"
      ]
     },
     "execution_count": 456,
     "metadata": {},
     "output_type": "execute_result"
    }
   ],
   "source": [
    "df['Review'].head()"
   ]
  },
  {
   "cell_type": "code",
   "execution_count": 457,
   "metadata": {},
   "outputs": [],
   "source": [
    "import regex as re"
   ]
  },
  {
   "cell_type": "code",
   "execution_count": 458,
   "metadata": {},
   "outputs": [
    {
     "data": {
      "text/plain": [
       "759602"
      ]
     },
     "execution_count": 458,
     "metadata": {},
     "output_type": "execute_result"
    }
   ],
   "source": [
    "len(df.Review)"
   ]
  },
  {
   "cell_type": "code",
   "execution_count": 459,
   "metadata": {},
   "outputs": [
    {
     "data": {
      "text/plain": [
       "\"bought it for my husband. he's very happy with it\""
      ]
     },
     "execution_count": 459,
     "metadata": {},
     "output_type": "execute_result"
    }
   ],
   "source": [
    "#understanding \n",
    "wow=df['Review'][0].lower()\n",
    "wow"
   ]
  },
  {
   "cell_type": "markdown",
   "metadata": {},
   "source": [
    "# NLP technique on 'Review'  feature"
   ]
  },
  {
   "cell_type": "raw",
   "metadata": {},
   "source": [
    "#Type error :1140\n",
    "w"
   ]
  },
  {
   "cell_type": "code",
   "execution_count": 460,
   "metadata": {},
   "outputs": [
    {
     "data": {
      "text/html": [
       "<div>\n",
       "<style scoped>\n",
       "    .dataframe tbody tr th:only-of-type {\n",
       "        vertical-align: middle;\n",
       "    }\n",
       "\n",
       "    .dataframe tbody tr th {\n",
       "        vertical-align: top;\n",
       "    }\n",
       "\n",
       "    .dataframe thead th {\n",
       "        text-align: right;\n",
       "    }\n",
       "</style>\n",
       "<table border=\"1\" class=\"dataframe\">\n",
       "  <thead>\n",
       "    <tr style=\"text-align: right;\">\n",
       "      <th></th>\n",
       "      <th>Rating</th>\n",
       "      <th>Rev_verify</th>\n",
       "      <th>IC</th>\n",
       "      <th>Reviewer_Name</th>\n",
       "      <th>Review</th>\n",
       "      <th>Rev_summ</th>\n",
       "      <th>review_month</th>\n",
       "      <th>review_day</th>\n",
       "      <th>review_weekday</th>\n",
       "      <th>Review_timestamp_year</th>\n",
       "      <th>Review_timestamp_month</th>\n",
       "      <th>Review_timestamp_day</th>\n",
       "      <th>Review_timestamp_hour</th>\n",
       "      <th>Review_timestamp_minutes</th>\n",
       "      <th>Review_timestamp_seconds</th>\n",
       "    </tr>\n",
       "  </thead>\n",
       "  <tbody>\n",
       "    <tr>\n",
       "      <th>1135</th>\n",
       "      <td>5</td>\n",
       "      <td>0</td>\n",
       "      <td>2317</td>\n",
       "      <td>0</td>\n",
       "      <td>I live where it's a maybe to make a call insid...</td>\n",
       "      <td>Great Device !!!</td>\n",
       "      <td>2</td>\n",
       "      <td>18</td>\n",
       "      <td>3</td>\n",
       "      <td>1969</td>\n",
       "      <td>12</td>\n",
       "      <td>31</td>\n",
       "      <td>14</td>\n",
       "      <td>18</td>\n",
       "      <td>55</td>\n",
       "    </tr>\n",
       "    <tr>\n",
       "      <th>1136</th>\n",
       "      <td>5</td>\n",
       "      <td>1</td>\n",
       "      <td>43435</td>\n",
       "      <td>0</td>\n",
       "      <td>Great set of cables!! works well!! just as pic...</td>\n",
       "      <td>Great set of cables!</td>\n",
       "      <td>7</td>\n",
       "      <td>24</td>\n",
       "      <td>6</td>\n",
       "      <td>1969</td>\n",
       "      <td>12</td>\n",
       "      <td>31</td>\n",
       "      <td>14</td>\n",
       "      <td>18</td>\n",
       "      <td>56</td>\n",
       "    </tr>\n",
       "    <tr>\n",
       "      <th>1137</th>\n",
       "      <td>5</td>\n",
       "      <td>1</td>\n",
       "      <td>36552</td>\n",
       "      <td>0</td>\n",
       "      <td>Very good items</td>\n",
       "      <td>Four Stars</td>\n",
       "      <td>6</td>\n",
       "      <td>15</td>\n",
       "      <td>2</td>\n",
       "      <td>1969</td>\n",
       "      <td>12</td>\n",
       "      <td>31</td>\n",
       "      <td>14</td>\n",
       "      <td>18</td>\n",
       "      <td>57</td>\n",
       "    </tr>\n",
       "    <tr>\n",
       "      <th>1138</th>\n",
       "      <td>5</td>\n",
       "      <td>1</td>\n",
       "      <td>7910</td>\n",
       "      <td>0</td>\n",
       "      <td>For normal use its a great phone. Using it for...</td>\n",
       "      <td>AT&amp;T Fusion 2 GoPhone (AT&amp;T)</td>\n",
       "      <td>7</td>\n",
       "      <td>16</td>\n",
       "      <td>1</td>\n",
       "      <td>1969</td>\n",
       "      <td>12</td>\n",
       "      <td>31</td>\n",
       "      <td>14</td>\n",
       "      <td>18</td>\n",
       "      <td>58</td>\n",
       "    </tr>\n",
       "    <tr>\n",
       "      <th>1139</th>\n",
       "      <td>5</td>\n",
       "      <td>1</td>\n",
       "      <td>47420</td>\n",
       "      <td>0</td>\n",
       "      <td>It works perfectly.</td>\n",
       "      <td>Works well and is strong.</td>\n",
       "      <td>1</td>\n",
       "      <td>25</td>\n",
       "      <td>3</td>\n",
       "      <td>1969</td>\n",
       "      <td>12</td>\n",
       "      <td>31</td>\n",
       "      <td>14</td>\n",
       "      <td>18</td>\n",
       "      <td>59</td>\n",
       "    </tr>\n",
       "    <tr>\n",
       "      <th>1140</th>\n",
       "      <td>4</td>\n",
       "      <td>1</td>\n",
       "      <td>26352</td>\n",
       "      <td>0</td>\n",
       "      <td>Looks great, doesn't bother signal, &amp; \"Samsung...</td>\n",
       "      <td>Now this feels like a $700 phone!</td>\n",
       "      <td>1</td>\n",
       "      <td>8</td>\n",
       "      <td>3</td>\n",
       "      <td>1969</td>\n",
       "      <td>12</td>\n",
       "      <td>31</td>\n",
       "      <td>14</td>\n",
       "      <td>19</td>\n",
       "      <td>0</td>\n",
       "    </tr>\n",
       "    <tr>\n",
       "      <th>1141</th>\n",
       "      <td>5</td>\n",
       "      <td>1</td>\n",
       "      <td>22796</td>\n",
       "      <td>0</td>\n",
       "      <td>I've used Spigen on my Note 3 since I got it 2...</td>\n",
       "      <td>Awesome protection</td>\n",
       "      <td>6</td>\n",
       "      <td>21</td>\n",
       "      <td>6</td>\n",
       "      <td>1969</td>\n",
       "      <td>12</td>\n",
       "      <td>31</td>\n",
       "      <td>14</td>\n",
       "      <td>19</td>\n",
       "      <td>1</td>\n",
       "    </tr>\n",
       "    <tr>\n",
       "      <th>1142</th>\n",
       "      <td>3</td>\n",
       "      <td>1</td>\n",
       "      <td>23980</td>\n",
       "      <td>0</td>\n",
       "      <td>Smaller than what I expected, but okay.</td>\n",
       "      <td>Three Stars</td>\n",
       "      <td>4</td>\n",
       "      <td>25</td>\n",
       "      <td>5</td>\n",
       "      <td>1969</td>\n",
       "      <td>12</td>\n",
       "      <td>31</td>\n",
       "      <td>14</td>\n",
       "      <td>19</td>\n",
       "      <td>2</td>\n",
       "    </tr>\n",
       "    <tr>\n",
       "      <th>1143</th>\n",
       "      <td>5</td>\n",
       "      <td>1</td>\n",
       "      <td>47399</td>\n",
       "      <td>0</td>\n",
       "      <td>Bought this as a quick temporary case, but it'...</td>\n",
       "      <td>Thought this would be a temp case, but it's st...</td>\n",
       "      <td>1</td>\n",
       "      <td>10</td>\n",
       "      <td>1</td>\n",
       "      <td>1969</td>\n",
       "      <td>12</td>\n",
       "      <td>31</td>\n",
       "      <td>14</td>\n",
       "      <td>19</td>\n",
       "      <td>3</td>\n",
       "    </tr>\n",
       "    <tr>\n",
       "      <th>1144</th>\n",
       "      <td>5</td>\n",
       "      <td>1</td>\n",
       "      <td>26963</td>\n",
       "      <td>0</td>\n",
       "      <td>This case was a pleasant surprise.  Well made ...</td>\n",
       "      <td>Love the pockets</td>\n",
       "      <td>11</td>\n",
       "      <td>12</td>\n",
       "      <td>3</td>\n",
       "      <td>1969</td>\n",
       "      <td>12</td>\n",
       "      <td>31</td>\n",
       "      <td>14</td>\n",
       "      <td>19</td>\n",
       "      <td>4</td>\n",
       "    </tr>\n",
       "  </tbody>\n",
       "</table>\n",
       "</div>"
      ],
      "text/plain": [
       "      Rating  Rev_verify     IC  Reviewer_Name  \\\n",
       "1135       5           0   2317              0   \n",
       "1136       5           1  43435              0   \n",
       "1137       5           1  36552              0   \n",
       "1138       5           1   7910              0   \n",
       "1139       5           1  47420              0   \n",
       "1140       4           1  26352              0   \n",
       "1141       5           1  22796              0   \n",
       "1142       3           1  23980              0   \n",
       "1143       5           1  47399              0   \n",
       "1144       5           1  26963              0   \n",
       "\n",
       "                                                 Review  \\\n",
       "1135  I live where it's a maybe to make a call insid...   \n",
       "1136  Great set of cables!! works well!! just as pic...   \n",
       "1137                                    Very good items   \n",
       "1138  For normal use its a great phone. Using it for...   \n",
       "1139                                It works perfectly.   \n",
       "1140  Looks great, doesn't bother signal, & \"Samsung...   \n",
       "1141  I've used Spigen on my Note 3 since I got it 2...   \n",
       "1142            Smaller than what I expected, but okay.   \n",
       "1143  Bought this as a quick temporary case, but it'...   \n",
       "1144  This case was a pleasant surprise.  Well made ...   \n",
       "\n",
       "                                               Rev_summ  review_month  \\\n",
       "1135                                   Great Device !!!             2   \n",
       "1136                               Great set of cables!             7   \n",
       "1137                                         Four Stars             6   \n",
       "1138                       AT&T Fusion 2 GoPhone (AT&T)             7   \n",
       "1139                          Works well and is strong.             1   \n",
       "1140                  Now this feels like a $700 phone!             1   \n",
       "1141                                 Awesome protection             6   \n",
       "1142                                        Three Stars             4   \n",
       "1143  Thought this would be a temp case, but it's st...             1   \n",
       "1144                                   Love the pockets            11   \n",
       "\n",
       "      review_day  review_weekday  Review_timestamp_year  \\\n",
       "1135          18               3                   1969   \n",
       "1136          24               6                   1969   \n",
       "1137          15               2                   1969   \n",
       "1138          16               1                   1969   \n",
       "1139          25               3                   1969   \n",
       "1140           8               3                   1969   \n",
       "1141          21               6                   1969   \n",
       "1142          25               5                   1969   \n",
       "1143          10               1                   1969   \n",
       "1144          12               3                   1969   \n",
       "\n",
       "      Review_timestamp_month  Review_timestamp_day  Review_timestamp_hour  \\\n",
       "1135                      12                    31                     14   \n",
       "1136                      12                    31                     14   \n",
       "1137                      12                    31                     14   \n",
       "1138                      12                    31                     14   \n",
       "1139                      12                    31                     14   \n",
       "1140                      12                    31                     14   \n",
       "1141                      12                    31                     14   \n",
       "1142                      12                    31                     14   \n",
       "1143                      12                    31                     14   \n",
       "1144                      12                    31                     14   \n",
       "\n",
       "      Review_timestamp_minutes  Review_timestamp_seconds  \n",
       "1135                        18                        55  \n",
       "1136                        18                        56  \n",
       "1137                        18                        57  \n",
       "1138                        18                        58  \n",
       "1139                        18                        59  \n",
       "1140                        19                         0  \n",
       "1141                        19                         1  \n",
       "1142                        19                         2  \n",
       "1143                        19                         3  \n",
       "1144                        19                         4  "
      ]
     },
     "execution_count": 460,
     "metadata": {},
     "output_type": "execute_result"
    }
   ],
   "source": [
    "df[1135:1145]"
   ]
  },
  {
   "cell_type": "markdown",
   "metadata": {},
   "source": [
    "# NLP Filter loop"
   ]
  },
  {
   "cell_type": "code",
   "execution_count": 461,
   "metadata": {},
   "outputs": [
    {
     "data": {
      "text/html": [
       "<div>\n",
       "<style scoped>\n",
       "    .dataframe tbody tr th:only-of-type {\n",
       "        vertical-align: middle;\n",
       "    }\n",
       "\n",
       "    .dataframe tbody tr th {\n",
       "        vertical-align: top;\n",
       "    }\n",
       "\n",
       "    .dataframe thead th {\n",
       "        text-align: right;\n",
       "    }\n",
       "</style>\n",
       "<table border=\"1\" class=\"dataframe\">\n",
       "  <thead>\n",
       "    <tr style=\"text-align: right;\">\n",
       "      <th></th>\n",
       "      <th>Rating</th>\n",
       "      <th>Rev_verify</th>\n",
       "      <th>IC</th>\n",
       "      <th>Reviewer_Name</th>\n",
       "      <th>Review</th>\n",
       "      <th>Rev_summ</th>\n",
       "      <th>review_month</th>\n",
       "      <th>review_day</th>\n",
       "      <th>review_weekday</th>\n",
       "      <th>Review_timestamp_year</th>\n",
       "      <th>Review_timestamp_month</th>\n",
       "      <th>Review_timestamp_day</th>\n",
       "      <th>Review_timestamp_hour</th>\n",
       "      <th>Review_timestamp_minutes</th>\n",
       "      <th>Review_timestamp_seconds</th>\n",
       "    </tr>\n",
       "  </thead>\n",
       "  <tbody>\n",
       "    <tr>\n",
       "      <th>0</th>\n",
       "      <td>5</td>\n",
       "      <td>1</td>\n",
       "      <td>8476</td>\n",
       "      <td>0</td>\n",
       "      <td>[bought, it, for, my, husband, hes, very, happ...</td>\n",
       "      <td>He's very happy with</td>\n",
       "      <td>9</td>\n",
       "      <td>1</td>\n",
       "      <td>1</td>\n",
       "      <td>1969</td>\n",
       "      <td>12</td>\n",
       "      <td>31</td>\n",
       "      <td>14</td>\n",
       "      <td>0</td>\n",
       "      <td>0</td>\n",
       "    </tr>\n",
       "    <tr>\n",
       "      <th>1</th>\n",
       "      <td>5</td>\n",
       "      <td>1</td>\n",
       "      <td>39101</td>\n",
       "      <td>0</td>\n",
       "      <td>[great, screen, protector, doesnt, even, seem,...</td>\n",
       "      <td>Five Stars</td>\n",
       "      <td>1</td>\n",
       "      <td>9</td>\n",
       "      <td>5</td>\n",
       "      <td>1969</td>\n",
       "      <td>12</td>\n",
       "      <td>31</td>\n",
       "      <td>14</td>\n",
       "      <td>0</td>\n",
       "      <td>1</td>\n",
       "    </tr>\n",
       "    <tr>\n",
       "      <th>2</th>\n",
       "      <td>5</td>\n",
       "      <td>1</td>\n",
       "      <td>6742</td>\n",
       "      <td>0</td>\n",
       "      <td>[saved, me, lots, of, money, its, not, gorilla...</td>\n",
       "      <td>As long as you know how to put it on!</td>\n",
       "      <td>4</td>\n",
       "      <td>21</td>\n",
       "      <td>6</td>\n",
       "      <td>1969</td>\n",
       "      <td>12</td>\n",
       "      <td>31</td>\n",
       "      <td>14</td>\n",
       "      <td>0</td>\n",
       "      <td>2</td>\n",
       "    </tr>\n",
       "  </tbody>\n",
       "</table>\n",
       "</div>"
      ],
      "text/plain": [
       "   Rating  Rev_verify     IC  Reviewer_Name  \\\n",
       "0       5           1   8476              0   \n",
       "1       5           1  39101              0   \n",
       "2       5           1   6742              0   \n",
       "\n",
       "                                              Review  \\\n",
       "0  [bought, it, for, my, husband, hes, very, happ...   \n",
       "1  [great, screen, protector, doesnt, even, seem,...   \n",
       "2  [saved, me, lots, of, money, its, not, gorilla...   \n",
       "\n",
       "                                Rev_summ  review_month  review_day  \\\n",
       "0                   He's very happy with             9           1   \n",
       "1                             Five Stars             1           9   \n",
       "2  As long as you know how to put it on!             4          21   \n",
       "\n",
       "   review_weekday  Review_timestamp_year  Review_timestamp_month  \\\n",
       "0               1                   1969                      12   \n",
       "1               5                   1969                      12   \n",
       "2               6                   1969                      12   \n",
       "\n",
       "   Review_timestamp_day  Review_timestamp_hour  Review_timestamp_minutes  \\\n",
       "0                    31                     14                         0   \n",
       "1                    31                     14                         0   \n",
       "2                    31                     14                         0   \n",
       "\n",
       "   Review_timestamp_seconds  \n",
       "0                         0  \n",
       "1                         1  \n",
       "2                         2  "
      ]
     },
     "execution_count": 461,
     "metadata": {},
     "output_type": "execute_result"
    }
   ],
   "source": [
    "clean_review = []\n",
    "for w in range(len(df.Review)):\n",
    "    \n",
    "\n",
    "    lower_case = df['Review'][w].lower()\n",
    "    \n",
    "\n",
    "# str.maketrans removes any punctuations \n",
    "\n",
    "    cleaned_text = lower_case.translate(str.maketrans('', '', string.punctuation))\n",
    "\n",
    "# Using word_tokenize to tokenize sentence into words\n",
    "\n",
    "    tokenized_words = word_tokenize(cleaned_text, \"english\")\n",
    "    \n",
    "    clean_review.append(tokenized_words)\n",
    "#assign the cleaned descriptions to the data frame\n",
    "df['Review'] = clean_review\n",
    "        \n",
    "df.head(3)\n"
   ]
  },
  {
   "cell_type": "code",
   "execution_count": 462,
   "metadata": {},
   "outputs": [
    {
     "data": {
      "text/plain": [
       "Rating                       int64\n",
       "Rev_verify                   int64\n",
       "IC                           int32\n",
       "Reviewer_Name                int32\n",
       "Review                      object\n",
       "Rev_summ                    object\n",
       "review_month                 int64\n",
       "review_day                   int64\n",
       "review_weekday               int64\n",
       "Review_timestamp_year        int64\n",
       "Review_timestamp_month       int64\n",
       "Review_timestamp_day         int64\n",
       "Review_timestamp_hour        int64\n",
       "Review_timestamp_minutes     int64\n",
       "Review_timestamp_seconds     int64\n",
       "dtype: object"
      ]
     },
     "execution_count": 462,
     "metadata": {},
     "output_type": "execute_result"
    }
   ],
   "source": [
    "df.dtypes"
   ]
  },
  {
   "cell_type": "code",
   "execution_count": 463,
   "metadata": {},
   "outputs": [
    {
     "data": {
      "text/plain": [
       "['so',\n",
       " 'so',\n",
       " 'it',\n",
       " 'did',\n",
       " 'not',\n",
       " 'look',\n",
       " 'like',\n",
       " 'the',\n",
       " 'picture',\n",
       " 'advertised']"
      ]
     },
     "execution_count": 463,
     "metadata": {},
     "output_type": "execute_result"
    }
   ],
   "source": [
    "tokenized_words"
   ]
  },
  {
   "cell_type": "code",
   "execution_count": 464,
   "metadata": {},
   "outputs": [
    {
     "data": {
      "text/plain": [
       "10"
      ]
     },
     "execution_count": 464,
     "metadata": {},
     "output_type": "execute_result"
    }
   ],
   "source": [
    "len(tokenized_words)"
   ]
  },
  {
   "cell_type": "markdown",
   "metadata": {},
   "source": [
    "# Removing Stop Words from tokenized_words as they give no emotions or feelings."
   ]
  },
  {
   "cell_type": "code",
   "execution_count": 465,
   "metadata": {},
   "outputs": [],
   "source": [
    "# Removing Stop Words from tokenized_words\n",
    "final_words = []\n",
    "\n",
    "for word in tokenized_words:\n",
    "    if word not in stopwords.words('english'):\n",
    "        final_words.append(word)"
   ]
  },
  {
   "cell_type": "code",
   "execution_count": 466,
   "metadata": {},
   "outputs": [
    {
     "data": {
      "text/plain": [
       "['look', 'like', 'picture', 'advertised']"
      ]
     },
     "execution_count": 466,
     "metadata": {},
     "output_type": "execute_result"
    }
   ],
   "source": [
    "final_words"
   ]
  },
  {
   "cell_type": "markdown",
   "metadata": {},
   "source": [
    "# Applying Lemmatization to final_words 1st then stemming."
   ]
  },
  {
   "cell_type": "code",
   "execution_count": 467,
   "metadata": {},
   "outputs": [],
   "source": [
    "# Lemmatization - From plural to single + Base form of a word (example better-> good)\n",
    "\n",
    "lemma_words = []\n",
    "\n",
    "for word in final_words:\n",
    "    word = WordNetLemmatizer().lemmatize(word)\n",
    "    lemma_words.append(word)"
   ]
  },
  {
   "cell_type": "code",
   "execution_count": 468,
   "metadata": {},
   "outputs": [
    {
     "data": {
      "text/plain": [
       "['look', 'like', 'picture', 'advertised']"
      ]
     },
     "execution_count": 468,
     "metadata": {},
     "output_type": "execute_result"
    }
   ],
   "source": [
    "lemma_words #performing good as words are spelled correct."
   ]
  },
  {
   "cell_type": "code",
   "execution_count": 469,
   "metadata": {},
   "outputs": [
    {
     "data": {
      "text/plain": [
       "(4, 10, 4)"
      ]
     },
     "execution_count": 469,
     "metadata": {},
     "output_type": "execute_result"
    }
   ],
   "source": [
    "len(final_words),len(tokenized_words),len(lemma_words)"
   ]
  },
  {
   "cell_type": "code",
   "execution_count": 470,
   "metadata": {},
   "outputs": [
    {
     "data": {
      "text/plain": [
       "Rating                       int64\n",
       "Rev_verify                   int64\n",
       "IC                           int32\n",
       "Reviewer_Name                int32\n",
       "Review                      object\n",
       "Rev_summ                    object\n",
       "review_month                 int64\n",
       "review_day                   int64\n",
       "review_weekday               int64\n",
       "Review_timestamp_year        int64\n",
       "Review_timestamp_month       int64\n",
       "Review_timestamp_day         int64\n",
       "Review_timestamp_hour        int64\n",
       "Review_timestamp_minutes     int64\n",
       "Review_timestamp_seconds     int64\n",
       "dtype: object"
      ]
     },
     "execution_count": 470,
     "metadata": {},
     "output_type": "execute_result"
    }
   ],
   "source": [
    "df.dtypes"
   ]
  },
  {
   "cell_type": "markdown",
   "metadata": {},
   "source": [
    "# stemming"
   ]
  },
  {
   "cell_type": "code",
   "execution_count": 471,
   "metadata": {},
   "outputs": [],
   "source": [
    "import nltk\n",
    "\n",
    "from nltk.stem import PorterStemmer,LancasterStemmer,SnowballStemmer"
   ]
  },
  {
   "cell_type": "code",
   "execution_count": 472,
   "metadata": {},
   "outputs": [],
   "source": [
    "lancaster = LancasterStemmer()\n",
    "\n",
    "porter = PorterStemmer()\n",
    "\n",
    "Snowball = SnowballStemmer('english')"
   ]
  },
  {
   "cell_type": "code",
   "execution_count": 473,
   "metadata": {},
   "outputs": [
    {
     "name": "stdout",
     "output_type": "stream",
     "text": [
      "look like pictur advertis\n",
      "look lik pict advert\n",
      "look like pictur advertis\n"
     ]
    }
   ],
   "source": [
    "\n",
    "\n",
    "for stemmer in (Snowball, lancaster, porter):\n",
    "               #Stemming 't'\n",
    "    stemm = [stemmer.stem(t) for t in final_words]\n",
    "    print(\" \".join(stemm))"
   ]
  },
  {
   "cell_type": "raw",
   "metadata": {},
   "source": [
    "We can see stemming performing badly as words are not spelled correct.\n",
    "#Hence lemmatization is selected and proceedded."
   ]
  },
  {
   "cell_type": "markdown",
   "metadata": {},
   "source": [
    "# Automated EDA by sweetwiz"
   ]
  },
  {
   "cell_type": "code",
   "execution_count": 478,
   "metadata": {},
   "outputs": [],
   "source": [
    "df1=df.drop(['Review','Rev_summ'],axis=1) #Not in sweetviz format,\n",
    "#except the two above dropped features we can analyze all other features here graphically."
   ]
  },
  {
   "cell_type": "code",
   "execution_count": 474,
   "metadata": {},
   "outputs": [],
   "source": [
    "import sweetviz"
   ]
  },
  {
   "cell_type": "code",
   "execution_count": 479,
   "metadata": {},
   "outputs": [
    {
     "name": "stderr",
     "output_type": "stream",
     "text": [
      "\n",
      "                                   |                         | [  0%]   00:00  -> (? left)\u001b[A\n",
      "Summarizing dataframe:             |                         | [  0%]   00:00  -> (? left)\u001b[A\n",
      "Summarizing dataframe:             |█▌                   | [  7%]   00:00  -> (00:08 left)\u001b[A\n",
      ":Rating:                           |█▌                   | [  7%]   00:00  -> (00:08 left)\u001b[A\n",
      ":Rating:                           |███                  | [ 14%]   00:01  -> (00:10 left)\u001b[A\n",
      ":Rev_verify:                       |███                  | [ 14%]   00:02  -> (00:10 left)\u001b[A\n",
      ":Rev_verify:                       |████▌                | [ 21%]   00:02  -> (00:07 left)\u001b[A\n",
      ":IC:                               |████▌                | [ 21%]   00:02  -> (00:07 left)\u001b[A\n",
      ":IC:                               |██████               | [ 29%]   00:03  -> (00:08 left)\u001b[A\n",
      ":Reviewer_Name:                    |██████               | [ 29%]   00:03  -> (00:08 left)\u001b[A\n",
      ":Reviewer_Name:                    |███████▌             | [ 36%]   00:03  -> (00:06 left)\u001b[A\n",
      ":review_month:                     |███████▌             | [ 36%]   00:03  -> (00:06 left)\u001b[A\n",
      ":review_month:                     |█████████            | [ 43%]   00:04  -> (00:06 left)\u001b[A\n",
      ":review_day:                       |█████████            | [ 43%]   00:04  -> (00:06 left)\u001b[A\n",
      ":review_day:                       |██████████▌          | [ 50%]   00:06  -> (00:06 left)\u001b[A\n",
      ":review_weekday:                   |██████████▌          | [ 50%]   00:06  -> (00:06 left)\u001b[A\n",
      ":review_weekday:                   |████████████         | [ 57%]   00:06  -> (00:04 left)\u001b[A\n",
      ":Review_timestamp_year:            |████████████         | [ 57%]   00:06  -> (00:04 left)\u001b[A\n",
      ":Review_timestamp_year:            |█████████████▌       | [ 64%]   00:06  -> (00:03 left)\u001b[A\n",
      ":Review_timestamp_month:           |█████████████▌       | [ 64%]   00:06  -> (00:03 left)\u001b[A\n",
      ":Review_timestamp_month:           |███████████████      | [ 71%]   00:07  -> (00:02 left)\u001b[A\n",
      ":Review_timestamp_day:             |███████████████      | [ 71%]   00:07  -> (00:02 left)\u001b[A\n",
      ":Review_timestamp_day:             |████████████████▌    | [ 79%]   00:07  -> (00:01 left)\u001b[A\n",
      ":Review_timestamp_hour:            |████████████████▌    | [ 79%]   00:07  -> (00:01 left)\u001b[A\n",
      ":Review_timestamp_hour:            |██████████████████   | [ 86%]   00:08  -> (00:01 left)\u001b[A\n",
      ":Review_timestamp_minutes:         |██████████████████   | [ 86%]   00:08  -> (00:01 left)\u001b[A\n",
      ":Review_timestamp_minutes:         |███████████████████▌ | [ 93%]   00:09  -> (00:00 left)\u001b[A\n",
      ":Review_timestamp_seconds:         |███████████████████▌ | [ 93%]   00:09  -> (00:00 left)\u001b[A\n",
      ":Review_timestamp_seconds:         |█████████████████████| [100%]   00:10  -> (00:00 left)\u001b[A\n",
      ":FEATURES DONE:                    |█████████████████████| [100%]   00:10  -> (00:00 left)\u001b[A\n",
      "\n",
      "                                   |                         | [  0%]   00:00  -> (? left)\u001b[A\n",
      ":Processing Pairwise Features:     |                         | [  0%]   00:00  -> (? left)\u001b[A\n",
      ":Processing Pairwise Features:     |█▌                   | [  8%]   00:15  -> (03:11 left)\u001b[A\n",
      ":Processing Pairwise Features:     |███▏                 | [ 15%]   00:31  -> (02:54 left)\u001b[A\n",
      ":Processing Pairwise Features:     |████▊                | [ 23%]   00:31  -> (01:51 left)\u001b[A\n",
      ":Processing Pairwise Features:     |██████▍              | [ 31%]   00:47  -> (01:51 left)\u001b[A\n",
      ":Processing Pairwise Features:     |████████             | [ 38%]   00:47  -> (01:09 left)\u001b[A\n",
      ":Processing Pairwise Features:     |█████████▋           | [ 46%]   00:47  -> (00:43 left)\u001b[A\n",
      ":Processing Pairwise Features:     |███████████▎         | [ 54%]   01:02  -> (00:52 left)\u001b[A\n",
      ":Processing Pairwise Features:     |████████████▉        | [ 62%]   01:17  -> (00:53 left)\u001b[A\n",
      ":Processing Pairwise Features:     |██████████████▌      | [ 69%]   01:31  -> (00:47 left)\u001b[A\n",
      ":Processing Pairwise Features:     |████████████████▏    | [ 77%]   01:46  -> (00:37 left)\u001b[A\n",
      ":Processing Pairwise Features:     |█████████████████▊   | [ 85%]   01:46  -> (00:17 left)\u001b[A\n",
      ":Processing Pairwise Features:     |███████████████████▍ | [ 92%]   01:46  -> (00:06 left)\u001b[A\n",
      ":Processing Pairwise Features:     |█████████████████████| [100%]   01:46  -> (00:00 left)\u001b[A\n",
      ":PAIRWISE DONE:                    |█████████████████████| [100%]   01:46  -> (00:00 left)\u001b[A\n"
     ]
    },
    {
     "name": "stdout",
     "output_type": "stream",
     "text": [
      "Creating Associations graph... DONE!\n"
     ]
    }
   ],
   "source": [
    "my_report1=sweetviz.analyze([df1,'df1']) #no target_feat"
   ]
  },
  {
   "cell_type": "code",
   "execution_count": 482,
   "metadata": {},
   "outputs": [
    {
     "name": "stdout",
     "output_type": "stream",
     "text": [
      "Report except Review and rev_summ feature.html was generated! NOTEBOOK/COLAB USERS: no browser will pop up, the report is saved in your notebook/colab files.\n"
     ]
    }
   ],
   "source": [
    "my_report1.show_html('except Review and rev_summ feature.html')"
   ]
  },
  {
   "cell_type": "markdown",
   "metadata": {},
   "source": [
    "# Automated EDA by dtale library"
   ]
  },
  {
   "cell_type": "code",
   "execution_count": 476,
   "metadata": {},
   "outputs": [],
   "source": [
    "import dtale"
   ]
  },
  {
   "cell_type": "code",
   "execution_count": 483,
   "metadata": {},
   "outputs": [
    {
     "data": {
      "text/html": [
       "\n",
       "        <iframe\n",
       "            width=\"100%\"\n",
       "            height=\"475\"\n",
       "            src=\"http://DESKTOP-5SOT0F5:40000/dtale/iframe/2\"\n",
       "            frameborder=\"0\"\n",
       "            allowfullscreen\n",
       "        ></iframe>\n",
       "        "
      ],
      "text/plain": [
       "<IPython.lib.display.IFrame at 0x2509f9c1490>"
      ]
     },
     "metadata": {},
     "output_type": "display_data"
    },
    {
     "data": {
      "text/plain": []
     },
     "execution_count": 483,
     "metadata": {},
     "output_type": "execute_result"
    }
   ],
   "source": [
    "dtale.show(df1)"
   ]
  },
  {
   "cell_type": "code",
   "execution_count": null,
   "metadata": {},
   "outputs": [],
   "source": []
  },
  {
   "cell_type": "code",
   "execution_count": null,
   "metadata": {},
   "outputs": [],
   "source": []
  },
  {
   "cell_type": "code",
   "execution_count": null,
   "metadata": {},
   "outputs": [],
   "source": []
  },
  {
   "cell_type": "code",
   "execution_count": null,
   "metadata": {},
   "outputs": [],
   "source": []
  }
 ],
 "metadata": {
  "kernelspec": {
   "display_name": "Python 3",
   "language": "python",
   "name": "python3"
  },
  "language_info": {
   "codemirror_mode": {
    "name": "ipython",
    "version": 3
   },
   "file_extension": ".py",
   "mimetype": "text/x-python",
   "name": "python",
   "nbconvert_exporter": "python",
   "pygments_lexer": "ipython3",
   "version": "3.8.3"
  }
 },
 "nbformat": 4,
 "nbformat_minor": 2
}
